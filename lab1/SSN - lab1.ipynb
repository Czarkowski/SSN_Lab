{
 "cells": [
  {
   "cell_type": "markdown",
   "metadata": {},
   "source": [
    "## Sztuczne sieci neuronowe - laboratorium 1"
   ]
  },
  {
   "cell_type": "markdown",
   "metadata": {},
   "source": [
    "### NumPy - powtórzenie\n",
    "Podstawową strukturą w NumPy jest tablica wielowymiarowa: n-dimensional array (ndarray):\n",
    "- przechowuje elementy określonego typu\n",
    "- typowo elementy zajmują sąsiednie bloki w pamięci\n",
    "\n",
    "Dzięki temu jest ona szybsza niż standardowa lista w Pythonie i pozwala na tzw. wektoryzację obliczeń.\n",
    "\n",
    "https://raw.githubusercontent.com/enthought/Numpy-Tutorial-SciPyConf-2020/master/slides.pdf"
   ]
  },
  {
   "cell_type": "code",
   "execution_count": null,
   "metadata": {},
   "outputs": [],
   "source": [
    "import numpy as np"
   ]
  },
  {
   "cell_type": "markdown",
   "metadata": {},
   "source": [
    "#### Ćwiczenie\n",
    "\n",
    "Niech `a = np.array([0, 1, 2, 3])`.\n",
    "\n",
    "Jaki będzie rezultat poniższych wywołań?\n",
    "- `type(a)`\n",
    "- `a.dtype`\n",
    "- `a.shape`\n",
    "- `a.ndim`"
   ]
  },
  {
   "cell_type": "code",
   "execution_count": null,
   "metadata": {},
   "outputs": [],
   "source": []
  },
  {
   "cell_type": "markdown",
   "metadata": {},
   "source": [
    "### Ćwiczenie\n",
    "\n",
    "Niech `a = np.array([1, 2, 3, 4])` i `b = np.array([2, 3, 4, 5])`.\n",
    "\n",
    "Jaki będzie rezultat poniższych wywołań?\n",
    "\n",
    "- `a + b`\n",
    "- `a * b`\n",
    "- `a ** b`"
   ]
  },
  {
   "cell_type": "code",
   "execution_count": null,
   "metadata": {},
   "outputs": [],
   "source": []
  },
  {
   "cell_type": "markdown",
   "metadata": {},
   "source": [
    "### Ćwiczenie \n",
    "\n",
    "Niech `a = np.array([[0, 1, 2, 3], [10, 11, 12, 13]])`\n",
    "\n",
    "Jaki będzie rezultat poniższych wywołań?\n",
    "- `a.shape`\n",
    "- `a.size`\n",
    "- `a.ndim`\n",
    "- `a[1]`"
   ]
  },
  {
   "cell_type": "code",
   "execution_count": null,
   "metadata": {},
   "outputs": [],
   "source": []
  },
  {
   "cell_type": "markdown",
   "metadata": {},
   "source": [
    "### Ćwiczenie \n",
    "\n",
    "Niech `a = np.array([10,11,12,13,14])`\n",
    "\n",
    "Jaki będzie rezultat poniższych wywołań?\n",
    "- `a[1:3]`\n",
    "- `a[1:-2]`\n",
    "- `a[:3]`\n",
    "- `a[-2:]`\n",
    "- `a[::2]`"
   ]
  },
  {
   "cell_type": "code",
   "execution_count": null,
   "metadata": {},
   "outputs": [],
   "source": []
  },
  {
   "cell_type": "markdown",
   "metadata": {},
   "source": [
    "### Ćwiczenie\n",
    "\n",
    "Niech `a = np.array([0, 1, 2, 3, 4])`.\n",
    "Jaka (i dlaczego) będzie zawartość `a` po wywołaniu kolejno:\n",
    "- `b = a[2:4]`\n",
    "- `b[0] = 10` ?"
   ]
  },
  {
   "cell_type": "code",
   "execution_count": null,
   "metadata": {},
   "outputs": [],
   "source": []
  },
  {
   "cell_type": "markdown",
   "metadata": {},
   "source": [
    "### Ćwiczenie\n",
    "\n",
    "Jaka będzie zawartość `b` po wywołaniu kolejno:\n",
    "- `a = np.arange(0, 80, 10)`\n",
    "- `mask = np.array([0, 1, 1, 0, 0, 1, 0, 0], dtype=bool)`\n",
    "- `b = a[mask]` ?\n"
   ]
  },
  {
   "cell_type": "code",
   "execution_count": null,
   "metadata": {},
   "outputs": [],
   "source": []
  },
  {
   "cell_type": "markdown",
   "metadata": {},
   "source": [
    "### Ćwiczenie\n",
    "\n",
    "Niech `a = np.array([[1, 2, 3], [4, 5, 6]])`\n",
    "\n",
    "Jaki będzie rezultat poniższych wywołań:\n",
    "- `a.sum()`\n",
    "- `a.sum(axis=0)`\n",
    "- `a.sum(axis=-1)`\n",
    "- `np.max(a, axis=1)`\n",
    "- `np.argmax(a, axis=1)`\n",
    "- `np.mean(a, axis=0)`"
   ]
  },
  {
   "cell_type": "code",
   "execution_count": null,
   "metadata": {},
   "outputs": [],
   "source": []
  },
  {
   "cell_type": "markdown",
   "metadata": {},
   "source": [
    "### Ćwiczenie\n",
    "\n",
    "Jaka (i dlaczego) będzie zawartość zmiennej `b` po wywołaniu kolejno poniższych komend?\n",
    "\n",
    "- `a = np.arange(-2, 2) ** 2`\n",
    "- `mask = a % 2 == 0`\n",
    "- `b = np.where(mask)`"
   ]
  },
  {
   "cell_type": "code",
   "execution_count": null,
   "metadata": {},
   "outputs": [],
   "source": []
  },
  {
   "cell_type": "markdown",
   "metadata": {},
   "source": [
    "### Ćwiczenie\n",
    "\n",
    "Niech `a = np.array([1, 0, 0, 1])` i `b = np.array([1, 2, 3, 4])`\n",
    "\n",
    "Jaki będzie rezultat wywołania `np.dot(a, b)`?"
   ]
  },
  {
   "cell_type": "code",
   "execution_count": null,
   "metadata": {},
   "outputs": [],
   "source": []
  },
  {
   "cell_type": "markdown",
   "metadata": {},
   "source": [
    "### Ćwiczenie\n",
    "\n",
    "Niech `a = np.array([[1, 0], [0, 1]])` i `b = np.array([[1, 2], [3, 4]])`\n",
    "\n",
    "Jaki będzie rezultat wywołania `np.dot(a, b)`?"
   ]
  },
  {
   "cell_type": "code",
   "execution_count": null,
   "metadata": {},
   "outputs": [],
   "source": []
  },
  {
   "cell_type": "markdown",
   "metadata": {},
   "source": [
    "### Ćwiczenie\n",
    "Niech `a = np.array([[1, 2, 3], [4, 5, 6]])`.\n",
    "\n",
    "Jaki będzie rezultat wywołania `np.transpose(a)` (lub `a.T`)?"
   ]
  },
  {
   "cell_type": "code",
   "execution_count": null,
   "metadata": {},
   "outputs": [],
   "source": []
  },
  {
   "cell_type": "markdown",
   "metadata": {},
   "source": [
    "### PyTorch - podstawy\n",
    "https://pytorch.org/tutorials/beginner/basics/tensorqs_tutorial.html"
   ]
  },
  {
   "cell_type": "code",
   "execution_count": null,
   "metadata": {},
   "outputs": [],
   "source": [
    "import torch"
   ]
  },
  {
   "cell_type": "markdown",
   "metadata": {},
   "source": [
    "W PyTorch podstawową strukturą, analogiczną do `np.array` jest tensor (`torch.Tensor`). Można go zaincjalizować na kilka sposobów, np.:\n",
    "\n",
    "1) z listy list\n",
    "```\n",
    "data = [[1, 2],[3, 4]]\n",
    "x_data = torch.tensor(data)\n",
    "```\n",
    "\n",
    "2) z np.array\n",
    "```\n",
    "np_array = np.array(data)\n",
    "x_np = torch.from_numpy(np_array)\n",
    "\n",
    "# w drugą stronę: x_np.numpy() pozwala na konwersję Tensora do numpy\n",
    "# uwaga: np array oraz tensor współdzielą pamięć i zmiany w jednym obiekcie spowodują zmiany w drugim\n",
    "```\n",
    "\n",
    "3) z użyciem wbudowanych funkcji (np. rand, zeros, ones)\n",
    "\n",
    "```\n",
    "shape = (2, 3,)\n",
    "rand_tensor = torch.rand(shape)\n",
    "```\n",
    "\n",
    "Tensor posiada takie atrybuty, jak:\n",
    "- shape - krotka (tuple) opisująca jego wymiary\n",
    "- dtype - przechowyway typ danych\n",
    "- device - domyślnie `cpu`\n",
    "\n",
    "Jeśli posiadamy kartę graficzną, możemy sprawdzić, czy jest \"wykryta\" przez PyTorch: `torch.cuda.is_available()`.\n",
    "Jeśli tak, możemy dla przyspieszenia obliczeń przenieść tensor na GPU: `tensor = tensor.to('cuda')`"
   ]
  },
  {
   "cell_type": "markdown",
   "metadata": {},
   "source": [
    "### Ćwiczenie\n",
    "\n",
    "Stwórz tensor rozmiaru `(3, 2)` zainicjalizowany liczbami losowymi. Sprawdź typ stworzonego obiektu, typ przechowywanych danych oraz atrybuty `shape` i `device`. Jeśli posiadasz kartę graficzną obsługującą CUDA, spróbuj przenieść na nią stworzony tensor."
   ]
  },
  {
   "cell_type": "code",
   "execution_count": null,
   "metadata": {},
   "outputs": [],
   "source": []
  },
  {
   "cell_type": "markdown",
   "metadata": {},
   "source": [
    "### Ćwiczenie\n",
    "Niech `points = torch.tensor([[4.0, 1.0], [5.0, 3.0], [2.0, 1.0]])`\n",
    "\n",
    "Wypróbuj, korzystając z tego tensora, jak dla tensorów działa indeksowanie i slicing.\n",
    "\n",
    "Co zwróci `points[0, 1]`? Na wyniku tej operacji wykonaj metodę `.item()`."
   ]
  },
  {
   "cell_type": "code",
   "execution_count": null,
   "metadata": {},
   "outputs": [],
   "source": []
  },
  {
   "cell_type": "markdown",
   "metadata": {},
   "source": [
    "### Ćwiczenie\n",
    "\n",
    "`torch.cat` i `torch.stack` to funkcje pozwalające łączyć ze sobą tensory. Spróbuj zaobserwować różnicę pomiędzy tymi funkcjami korzystając z kodu poniżej."
   ]
  },
  {
   "cell_type": "code",
   "execution_count": null,
   "metadata": {},
   "outputs": [],
   "source": [
    "t = torch.ones((4, 2))\n",
    "\n",
    "t1 = torch.cat([t, t, t], dim=0)\n",
    "t2 = torch.stack([t, t, t], dim=0)"
   ]
  }
 ],
 "metadata": {
  "kernelspec": {
   "display_name": "Python 3",
   "language": "python",
   "name": "python3"
  },
  "language_info": {
   "codemirror_mode": {
    "name": "ipython",
    "version": 3
   },
   "file_extension": ".py",
   "mimetype": "text/x-python",
   "name": "python",
   "nbconvert_exporter": "python",
   "pygments_lexer": "ipython3",
   "version": "3.6.9"
  }
 },
 "nbformat": 4,
 "nbformat_minor": 4
}
