{
  "cells": [
    {
      "cell_type": "markdown",
      "metadata": {
        "id": "HnCfEpT6c3DF"
      },
      "source": [
        "## Sztuczne sieci neuronowe - laboratorium 2\n",
        "\n",
        "### Poszukiwanie parametrów modelu"
      ]
    },
    {
      "cell_type": "code",
      "execution_count": 1,
      "metadata": {
        "id": "A-K_xSAtc3DI"
      },
      "outputs": [],
      "source": [
        "import torch"
      ]
    },
    {
      "cell_type": "markdown",
      "metadata": {
        "id": "AUPr_xt8c3DJ"
      },
      "source": [
        "Załóżmy, że mamy dwa termometry:\n",
        "- jeden mierzy temperaturę w stopniach Celsjusza\n",
        "- drugi mierzy temperaturę w nieznanej nam skali, ale jest bardzo ładny i chcemy go powiesić na ścianie\n",
        "\n",
        "Zanim to zrobimy, chcemy się dowiedzieć, jak przeliczać wskazania drugiego termometru na stopnie Celsjusza.\n",
        "Spróbujemy znaleźć \"wzór\" tego przekształcenia na podstawie pomiarów dokonanych obydwoma termometrami."
      ]
    },
    {
      "cell_type": "code",
      "execution_count": 50,
      "metadata": {
        "id": "dnVtxoQUc3DK"
      },
      "outputs": [],
      "source": [
        "data_celsius = [0.5,  14.0, 15.0, 28.0, 11.0,  8.0,  3.0, -4.0,  6.0, 13.0, 21.0]\n",
        "data_unknown = [35.7, 55.9, 58.2, 81.9, 56.3, 48.9, 33.9, 21.8, 48.4, 60.4, 68.4]"
      ]
    },
    {
      "cell_type": "markdown",
      "metadata": {
        "id": "che4EX6gc3DK"
      },
      "source": [
        "#### Ćwiczenie\n",
        "Zwizualizuj dane pomiarowe jako punkty na płaszczyźnie (użyj `plt.scatter()`), na osi poziomej umieszczając temperaturę w nieznanej skali, a na osi pionowej - temperaturę w stopniach Celsjusza."
      ]
    },
    {
      "cell_type": "code",
      "execution_count": 3,
      "metadata": {
        "id": "cSfbf8okc3DK"
      },
      "outputs": [
        {
          "data": {
            "image/png": "[encoded data removed]",
            "text/plain": [
              "<Figure size 800x600 with 1 Axes>"
            ]
          },
          "metadata": {},
          "output_type": "display_data"
        }
      ],
      "source": [
        "import matplotlib.pyplot as plt\n",
        "\n",
        "plt.figure(figsize=(8, 6))\n",
        "plt.scatter(data_unknown, data_celsius, color='blue')\n",
        "\n",
        "plt.title('Zależność temperatury')\n",
        "plt.xlabel('Temperatura x')\n",
        "plt.ylabel('Temperatura w stopniach Celsjusza')\n",
        "\n",
        "plt.grid(True)\n",
        "plt.show()"
      ]
    },
    {
      "cell_type": "markdown",
      "metadata": {
        "id": "DNSFKDTnc3DL"
      },
      "source": [
        "#### Ćwiczenie\n",
        "Stwórz tensory `t_c` (temp. w stopniach Celsjusza) i `t_u` (temp. w skali \"unknown\") na podstawie danych."
      ]
    },
    {
      "cell_type": "code",
      "execution_count": 51,
      "metadata": {
        "id": "wtlz5FrEc3DL"
      },
      "outputs": [],
      "source": [
        "t_c = torch.tensor(data_celsius)\n",
        "t_u = torch.tensor(data_unknown)"
      ]
    },
    {
      "cell_type": "markdown",
      "metadata": {
        "id": "fzb-ro84c3DL"
      },
      "source": [
        "#### Ćwiczenie\n",
        "Zaproponuj na podstawie powyższej wizualizacji danych, jakiego modelu (możliwie prostego) użyć w tym zagadnieniu.\n",
        "Podaj \"wzór\" modelu i zdefiniuj funkcję `model(t_u, ...)` przekształcającą tensor wejściowy `t_u` w predykcję (niech funkcja zwróci tensor). Jakie będą parametry tego modelu?"
      ]
    },
    {
      "cell_type": "code",
      "execution_count": 12,
      "metadata": {
        "id": "Kim33aR-c3DM"
      },
      "outputs": [],
      "source": [
        "def model(t_u, a, b):\n",
        "    return a * t_u + b\n"
      ]
    },
    {
      "cell_type": "markdown",
      "metadata": {
        "id": "uvWs1JZZc3DM"
      },
      "source": [
        "#### Ćwiczenie\n",
        "Wybierz funkcję straty typową dla zadania regresji i zaimplementuj ją jako funkcję `loss_fn()`. Niech przyjmuje dwa argumenty - tensor predykcji `t_p` oraz tensor prawdziwych wartości `t_c`. Niech funkcja zwraca wartość funkcji straty (skalar / liczbę)."
      ]
    },
    {
      "cell_type": "code",
      "execution_count": 7,
      "metadata": {
        "id": "gr3uBLCsc3DM"
      },
      "outputs": [],
      "source": [
        "def loss_fn(t_p, t_c):\n",
        "    x = (t_p - t_c)**2\n",
        "    return x.mean()"
      ]
    },
    {
      "cell_type": "markdown",
      "metadata": {
        "id": "hF7mvxVec3DM"
      },
      "source": [
        "#### Ćwiczenie\n",
        "Zainicjalizuj parametry modelu jako tensory \"zero-wymiarowe\" (skalary) `w` i `b` o wartościach odpowiednio 1 i 0.\n",
        "Wykorzystaj w tym celu `torch.zeros()` i `torch.ones()` podając jako argument: `()`\n",
        "\n",
        "Oblicz tensor predykcji modelu dla zadanych parametrów oraz wartość funkcji straty używając zaimplementowanych wyżej funkcji."
      ]
    },
    {
      "cell_type": "code",
      "execution_count": 9,
      "metadata": {
        "id": "M8xnDWeZc3DM"
      },
      "outputs": [
        {
          "name": "stdout",
          "output_type": "stream",
          "text": [
            "Tensor predykcji modelu: tensor([35.7000, 55.9000, 58.2000, 81.9000, 56.3000, 48.9000, 33.9000, 21.8000,\n",
            "        48.4000, 60.4000, 68.4000])\n",
            "Wartość funkcji straty: tensor(1763.8848)\n"
          ]
        }
      ],
      "source": [
        "w = torch.ones(())\n",
        "b = torch.zeros(())\n",
        "t_p = model(t_u, w, b)\n",
        "\n",
        "strata = loss_fn(t_p, t_c)\n",
        "\n",
        "print(\"Tensor predykcji modelu:\", t_p)\n",
        "print(\"Wartość funkcji straty:\", strata)"
      ]
    },
    {
      "cell_type": "markdown",
      "metadata": {
        "id": "By108SZ7c3DN"
      },
      "source": [
        "### Badanie wpływu parametrów na wartość funkcji straty\n",
        "\n",
        "Powyżej obliczyliśmy wartość funkcji straty przy określonym zestawie parametrów modelu. Sprawdźmy teraz, co się stanie, gdy każdy z tych parametrów (niezależnie od siebie) zwiększymy lub zmniejszymy o pewną wartość `delta`. Pozwoli to oszacować współczynniki zmiany wartości funkcji straty przy zmianie wartości parametru (dla każdego z parametrów z osobna).\n",
        "\n",
        "Na podstawie tych współczynników, będziemy próbowali następnie zmienić wartości parametrów w taki sposób (zmniejszyć lub zwiększyć), aby  \"podążać w kierunku\" malejącej funkcji straty. Jeśli współczynnik dla danego parametru wyjdzie ujemny, to znaczy, że zwiększenie tego parametru zmniejsza funkcję straty, a zatem ten parametr należy jeszcze zwiększyć. Analogicznie, gdy współczynnik jest dodatni, zmniejszamy wartość tego parametru.\n",
        "\n",
        "Należy jednak uważać, aby pojedyncza zmiana parametru nie była ani zbyt mała, ani zbyt duża. Wielkość \"kroku\" kontroluje się typowo stosując tzw. stałą uczącą (ang. `learning_rate`). Stała ucząca jest jednym z najważniejszych hiperparametrów modeli (np. sieci neuronowych)."
      ]
    },
    {
      "cell_type": "markdown",
      "metadata": {
        "id": "HBX2teUwc3DN"
      },
      "source": [
        "#### Ćwiczenie\n",
        "\n",
        "Uzupełnij poniższy kod i oblicz współczynniki zmiany wartości funkcji straty ze względu na poszczególne parametry modelu. Przyjmuj `delta` = 0.1"
      ]
    },
    {
      "cell_type": "code",
      "execution_count": 13,
      "metadata": {
        "id": "Xf1y7I1Jc3DN"
      },
      "outputs": [
        {
          "name": "stdout",
          "output_type": "stream",
          "text": [
            "Współczynnik zmiany wartości funkcji straty względem parametru w: 4517.29736328125\n",
            "Współczynnik zmiany wartości funkcji straty względem parametru b: 82.5994873046875\n"
          ]
        }
      ],
      "source": [
        "delta = 0.1\n",
        "\n",
        "# ZASTĄP WYSTĄPIENIA SŁOWA \"None\" WŁASNYM KODEM\n",
        "\n",
        "loss_w_plus_delta = loss_fn(model(t_u, w + delta, b), t_c)\n",
        "loss_w_minus_delta = loss_fn(model(t_u, w - delta, b), t_c)\n",
        "\n",
        "loss_b_plus_delta = loss_fn(model(t_u, w, b + delta), t_c)\n",
        "loss_b_minus_delta = loss_fn(model(t_u, w, b - delta), t_c)\n",
        "\n",
        "loss_rate_of_change_w = (loss_w_plus_delta - loss_w_minus_delta) / (2*delta)\n",
        "\n",
        "loss_rate_of_change_b = (loss_b_plus_delta - loss_b_minus_delta) / (2*delta)\n",
        "\n",
        "print(\"Współczynnik zmiany wartości funkcji straty względem parametru w:\", loss_rate_of_change_w.item())\n",
        "print(\"Współczynnik zmiany wartości funkcji straty względem parametru b:\", loss_rate_of_change_b.item())"
      ]
    },
    {
      "cell_type": "markdown",
      "metadata": {
        "id": "rsFcdoWGc3DN"
      },
      "source": [
        "#### Ćwiczenie\n",
        "Zaktualizuj (nadpisz) wartości parametrów odejmując od poprzedniej wartości współczynnik zmiany funkcji straty przemnożony przez tzw. `learning_rate` - stałą uczącą. Niech `learning_rate` wynosi 0.01."
      ]
    },
    {
      "cell_type": "code",
      "execution_count": 14,
      "metadata": {
        "id": "GFh_rWRhc3DN"
      },
      "outputs": [
        {
          "name": "stdout",
          "output_type": "stream",
          "text": [
            "Nowa wartość parametru w: -44.1729736328125\n",
            "Nowa wartość parametru b: -0.8259948492050171\n"
          ]
        }
      ],
      "source": [
        "learning_rate = 0.01\n",
        "\n",
        "w = w - learning_rate * loss_rate_of_change_w\n",
        "\n",
        "b = b - learning_rate * loss_rate_of_change_b\n",
        "\n",
        "print(\"Nowa wartość parametru w:\", w.item())\n",
        "print(\"Nowa wartość parametru b:\", b.item())"
      ]
    },
    {
      "cell_type": "markdown",
      "metadata": {
        "id": "j92SVB5uc3DN"
      },
      "source": [
        "### Pochodna funkcji\n",
        "\n",
        "Pochodna funkcji jest miarą szybkości zmian wartości funkcji względem zmian jej argumentów. Obliczając pochodną funkcji w punkcie, liczymy w zasadzie współczynnik jak wyżej, przyjmując nieskończenie małe `delta`. Interesuje nas pochodna funkcji straty względem poszczególnych parametrów modelu - gradient.\n",
        "\n",
        "Do obliczania pochodnych funkcji złożonych wykorzystuje się tzw. regułę łańcuchową (\"chain rule\").\n",
        "\n",
        "Funkcja straty `L` jest funkcją predykcji modelu `t_p`. `t_p` zależy od parametrów modelu (`w` i `b`).\n",
        "Pochodna funkcji straty ze względu na parametr `w` może być obliczona następująco:\n",
        "\n",
        "`dL/dw = (dL/dtp) * (dtp/dw)`\n",
        "\n",
        "Analogicznie dla parametru `b`:\n",
        "\n",
        "`dL/db = (dL/dtp) * (dtp/db)`"
      ]
    },
    {
      "cell_type": "markdown",
      "metadata": {
        "id": "CnL5XYKnc3DN"
      },
      "source": [
        "#### Ćwiczenie\n",
        "\n",
        "Wykorzystaj swoją wiedzę z analizy matematycznej, aby napisać funkcję `dloss_fn` obliczającą pochodną funkcji straty względem predykcji (na podstawie zaimplementowanej wcześniej `loss_fn` - błędu średniokwadratowego). Będzie to człon `dL/dtp` w powyższym wzorze.\n",
        "\n",
        "Tymczasowo pomiń we wzorze obliczanie średniej - zrobimy to w odpowiednim miejscu."
      ]
    },
    {
      "cell_type": "code",
      "execution_count": 18,
      "metadata": {
        "id": "mESF9Dpyc3DN"
      },
      "outputs": [],
      "source": [
        "def dloss_fn(t_p, t_c):\n",
        "    return 2 * (t_p - t_c)"
      ]
    },
    {
      "cell_type": "markdown",
      "metadata": {
        "id": "j7GOLHOac3DO"
      },
      "source": [
        "#### Ćwiczenie\n",
        "Napisz funkcje `dmodel_dw()` oraz `dmodel_db()` przyjmujące jako argumenty: tensor wejściowy `t_u` i parametry modelu (`w` i `b`), a zwracające pochodne predykcji modelu względem parametrów (drugi człon z chain rule, odpowiednio `dtp/dw` i `dtp/db`).\n"
      ]
    },
    {
      "cell_type": "code",
      "execution_count": 19,
      "metadata": {
        "id": "ew4Dwk0nc3DO"
      },
      "outputs": [],
      "source": [
        "def dmodel_dw(t_u, w, b):\n",
        "    return t_u\n"
      ]
    },
    {
      "cell_type": "code",
      "execution_count": 40,
      "metadata": {
        "id": "q7nrVFJAc3DO"
      },
      "outputs": [],
      "source": [
        "def dmodel_db(t_u, w, b):\n",
        "    return torch.ones_like(t_u)"
      ]
    },
    {
      "cell_type": "markdown",
      "metadata": {
        "id": "NBm1W9Yec3DO"
      },
      "source": [
        "#### Ćwiczenie\n",
        "Uzupełnij poniższy kod, aby obliczyć gradient funkcji straty, czyli wektor (tensor) pochodnych względem parametrów modelu).\n",
        "\n",
        "Zwróć uwagę na użycie funkcji `mean()` w zwracanym tensorze."
      ]
    },
    {
      "cell_type": "code",
      "execution_count": 41,
      "metadata": {
        "id": "eMu2iG8Gc3DO"
      },
      "outputs": [],
      "source": [
        "def grad_fn(t_u, t_c, t_p, w, b):\n",
        "    dL_dtp = dloss_fn(t_p, t_c)\n",
        "    dL_dw = dL_dtp * dmodel_dw(t_u, w, b)\n",
        "    dL_db = dL_dtp * dmodel_db(t_u, w, b)\n",
        "    return torch.stack([dL_dw.mean(), dL_db.mean()])"
      ]
    },
    {
      "cell_type": "markdown",
      "metadata": {
        "id": "CsVlAAXxc3DO"
      },
      "source": [
        "### Algorytm najszybszego spadku\n",
        "\n",
        "Gradient (jako wektor pochodnych cząstkowych) wskazuje (wielowymiarowy) kierunek najszybszego wzrostu funkcji.\n",
        "\n",
        "Algorytm najszybszego spadku (ang. gradient descent) jest iteracyjnym algorytmem optymalizacji funkcji (straty), w którym w każdej iteracji aktualizujemy parametry \"podążając\" w kierunku przeciwnym do gradientu (wektor o przeciwnym zwrocie) - a więc w kierunku najszybszego spadku.\n",
        "\n",
        "Jest on realizowany przez poniższy kod."
      ]
    },
    {
      "cell_type": "code",
      "execution_count": 42,
      "metadata": {
        "id": "oIxYnby9c3DO"
      },
      "outputs": [],
      "source": [
        "def training_loop(n_iters, learning_rate, params, t_u, t_c):\n",
        "    for iteration in range(1, n_iters+1):\n",
        "        w, b = params\n",
        "        t_p = model(t_u, w, b)\n",
        "        loss = loss_fn(t_p, t_c)\n",
        "        grad = grad_fn(t_u, t_c, t_p, w, b)\n",
        "\n",
        "        # tzw. \"vanilla\" gradient descent\n",
        "        params = params - learning_rate * grad\n",
        "\n",
        "    print('After iteration %d, Loss %f' % (iteration, float(loss)))\n",
        "\n",
        "    return params"
      ]
    },
    {
      "cell_type": "markdown",
      "metadata": {
        "id": "4iuUrtQvc3DP"
      },
      "source": [
        "#### Ćwiczenie\n",
        "Uruchom funkcję `training_loop` dla 100 iteracji, przy `learning_rate` równym 0.01, inicjalizując parametry `w` i `b` wartościami 1.0 i 0.0.\n",
        "\n",
        "Zaobserwuj, co się stało, i pomyśl, dlaczego. Co się stało i dlaczego?"
      ]
    },
    {
      "cell_type": "code",
      "execution_count": 31,
      "metadata": {
        "id": "EVtZOFjqc3DP"
      },
      "outputs": [
        {
          "name": "stdout",
          "output_type": "stream",
          "text": [
            "After iteration 100, Loss nan\n",
            "tensor([nan, nan])\n"
          ]
        }
      ],
      "source": [
        "w = 1.0\n",
        "b = 0.0\n",
        "x = training_loop(100, 0.01, torch.tensor([w, b]), t_u, t_c)\n",
        "print(x)"
      ]
    },
    {
      "cell_type": "markdown",
      "metadata": {
        "id": "efi_8o6xc3DP"
      },
      "source": [
        "#### Ćwiczenie\n",
        "Uruchom `training_loop` dla 100 iteracji zmniejszając `learning_rate` do 0.0001. Co się zmieniło?"
      ]
    },
    {
      "cell_type": "code",
      "execution_count": 34,
      "metadata": {
        "id": "_rwJKSxrc3DP"
      },
      "outputs": [
        {
          "name": "stdout",
          "output_type": "stream",
          "text": [
            "After iteration 100, Loss 29.022667\n",
            "tensor([ 0.2327, -0.0438])\n"
          ]
        }
      ],
      "source": [
        "w = 1.0\n",
        "b = 0.0\n",
        "x = training_loop(100, 0.0001, torch.tensor([w, b]), t_u, t_c)\n",
        "print(x)"
      ]
    },
    {
      "cell_type": "markdown",
      "metadata": {
        "id": "qJWr5XLxc3DP"
      },
      "source": [
        "### Normalizacja danych\n",
        "\n",
        "Poza `learning_rate`, we wzorze na aktualizację parametrów modelu występuje także gradient. Przyjrzyjmy się zawartości zmiennej `grad` w kolejnych iteracjach.\n",
        "\n",
        "Widzimy, że w początkowych iteracjach treningu gradient dla parametru `w` jest znacząco większy (ok. 50 razy) niż dla `b`. Wskazuje to na fakt, że parametry nie są w tej samej skali i trudno dobrać do nich ten sam `learning_rate`.\n",
        "\n",
        "Uwaga:\n",
        "Bardziej złożone algorytmy optymalizacji radzą sobie częściowo z tym problemem - wrócimy do tego na kolejnych zajęciach."
      ]
    },
    {
      "cell_type": "code",
      "execution_count": 35,
      "metadata": {
        "id": "fwECtAwJc3DP"
      },
      "outputs": [],
      "source": [
        "def training_loop_print_grad(n_iters, learning_rate, params, t_u, t_c):\n",
        "    for iteration in range(1, n_iters+1):\n",
        "        w, b = params\n",
        "        t_p = model(t_u, w, b)\n",
        "        loss = loss_fn(t_p, t_c)\n",
        "        grad = grad_fn(t_u, t_c, t_p, w, b)\n",
        "\n",
        "        print(grad)\n",
        "        # tzw. \"vanilla\" gradient descent\n",
        "        params = params - learning_rate * grad\n",
        "\n",
        "    print('After iteration %d, Loss %f' % (iteration, float(loss)))\n",
        "\n",
        "    return params"
      ]
    },
    {
      "cell_type": "code",
      "execution_count": 36,
      "metadata": {
        "id": "KyUdUU_nc3DP"
      },
      "outputs": [
        {
          "name": "stdout",
          "output_type": "stream",
          "text": [
            "tensor([4517.2964,   82.6000])\n",
            "tensor([1859.5492,   35.7843])\n",
            "tensor([765.4666,  16.5122])\n",
            "tensor([315.0790,   8.5787])\n",
            "tensor([129.6733,   5.3127])\n",
            "tensor([53.3496,  3.9682])\n",
            "tensor([21.9304,  3.4148])\n",
            "tensor([8.9965, 3.1869])\n",
            "tensor([3.6721, 3.0930])\n",
            "tensor([1.4803, 3.0544])\n",
            "tensor([0.5781, 3.0384])\n",
            "tensor([0.2066, 3.0318])\n",
            "tensor([0.0537, 3.0291])\n",
            "tensor([-0.0093,  3.0279])\n",
            "tensor([-0.0352,  3.0274])\n",
            "tensor([-0.0459,  3.0272])\n",
            "tensor([-0.0502,  3.0270])\n",
            "tensor([-0.0520,  3.0270])\n",
            "tensor([-0.0528,  3.0269])\n",
            "tensor([-0.0531,  3.0268])\n",
            "tensor([-0.0532,  3.0268])\n",
            "tensor([-0.0533,  3.0267])\n",
            "tensor([-0.0533,  3.0267])\n",
            "tensor([-0.0533,  3.0266])\n",
            "tensor([-0.0533,  3.0266])\n",
            "tensor([-0.0533,  3.0265])\n",
            "tensor([-0.0533,  3.0265])\n",
            "tensor([-0.0532,  3.0264])\n",
            "tensor([-0.0533,  3.0264])\n",
            "tensor([-0.0533,  3.0263])\n",
            "tensor([-0.0532,  3.0262])\n",
            "tensor([-0.0533,  3.0262])\n",
            "tensor([-0.0533,  3.0261])\n",
            "tensor([-0.0533,  3.0261])\n",
            "tensor([-0.0532,  3.0260])\n",
            "tensor([-0.0533,  3.0260])\n",
            "tensor([-0.0533,  3.0259])\n",
            "tensor([-0.0532,  3.0259])\n",
            "tensor([-0.0534,  3.0258])\n",
            "tensor([-0.0533,  3.0258])\n",
            "tensor([-0.0533,  3.0257])\n",
            "tensor([-0.0532,  3.0257])\n",
            "tensor([-0.0533,  3.0256])\n",
            "tensor([-0.0532,  3.0256])\n",
            "tensor([-0.0533,  3.0255])\n",
            "tensor([-0.0533,  3.0254])\n",
            "tensor([-0.0533,  3.0254])\n",
            "tensor([-0.0533,  3.0253])\n",
            "tensor([-0.0533,  3.0253])\n",
            "tensor([-0.0532,  3.0252])\n",
            "tensor([-0.0533,  3.0252])\n",
            "tensor([-0.0533,  3.0251])\n",
            "tensor([-0.0533,  3.0251])\n",
            "tensor([-0.0533,  3.0250])\n",
            "tensor([-0.0532,  3.0250])\n",
            "tensor([-0.0533,  3.0249])\n",
            "tensor([-0.0532,  3.0249])\n",
            "tensor([-0.0533,  3.0248])\n",
            "tensor([-0.0533,  3.0248])\n",
            "tensor([-0.0533,  3.0247])\n",
            "tensor([-0.0533,  3.0247])\n",
            "tensor([-0.0533,  3.0246])\n",
            "tensor([-0.0533,  3.0245])\n",
            "tensor([-0.0532,  3.0245])\n",
            "tensor([-0.0533,  3.0244])\n",
            "tensor([-0.0533,  3.0244])\n",
            "tensor([-0.0533,  3.0243])\n",
            "tensor([-0.0533,  3.0243])\n",
            "tensor([-0.0533,  3.0242])\n",
            "tensor([-0.0532,  3.0242])\n",
            "tensor([-0.0533,  3.0241])\n",
            "tensor([-0.0533,  3.0241])\n",
            "tensor([-0.0532,  3.0240])\n",
            "tensor([-0.0533,  3.0240])\n",
            "tensor([-0.0533,  3.0239])\n",
            "tensor([-0.0533,  3.0239])\n",
            "tensor([-0.0533,  3.0238])\n",
            "tensor([-0.0533,  3.0238])\n",
            "tensor([-0.0533,  3.0237])\n",
            "tensor([-0.0533,  3.0236])\n",
            "tensor([-0.0534,  3.0236])\n",
            "tensor([-0.0533,  3.0235])\n",
            "tensor([-0.0532,  3.0235])\n",
            "tensor([-0.0533,  3.0234])\n",
            "tensor([-0.0533,  3.0234])\n",
            "tensor([-0.0532,  3.0233])\n",
            "tensor([-0.0533,  3.0233])\n",
            "tensor([-0.0532,  3.0232])\n",
            "tensor([-0.0532,  3.0232])\n",
            "tensor([-0.0533,  3.0231])\n",
            "tensor([-0.0533,  3.0231])\n",
            "tensor([-0.0532,  3.0230])\n",
            "tensor([-0.0533,  3.0230])\n",
            "tensor([-0.0532,  3.0229])\n",
            "tensor([-0.0533,  3.0229])\n",
            "tensor([-0.0533,  3.0228])\n",
            "tensor([-0.0533,  3.0227])\n",
            "tensor([-0.0533,  3.0227])\n",
            "tensor([-0.0533,  3.0226])\n",
            "tensor([-0.0532,  3.0226])\n",
            "After iteration 100, Loss 29.022667\n"
          ]
        },
        {
          "data": {
            "text/plain": [
              "tensor([ 0.2327, -0.0438])"
            ]
          },
          "execution_count": 36,
          "metadata": {},
          "output_type": "execute_result"
        }
      ],
      "source": [
        "training_loop_print_grad(n_iters = 100,\n",
        "              learning_rate = 1e-4,\n",
        "              params = torch.tensor([1.0, 0.0]),\n",
        "              t_u = t_u,\n",
        "              t_c = t_c)"
      ]
    },
    {
      "cell_type": "markdown",
      "metadata": {
        "id": "a2slcvyCc3DP"
      },
      "source": [
        "Rozwiązaniem problemu może być odpowiednia normalizacja wejść do modelu. Temat ten będzie szerzej omawiany w późniejszym czasie, na teraz spróbujmy jedynie przeskalować wejścia zmniejszając je 10-krotnie (`t_u * 0.1`) . Teraz model nie \"wybuchnie\" nawet dla `learning_rate` równego 0.01."
      ]
    },
    {
      "cell_type": "code",
      "execution_count": 37,
      "metadata": {
        "id": "fKxdAIX4c3DQ"
      },
      "outputs": [
        {
          "name": "stdout",
          "output_type": "stream",
          "text": [
            "tensor([-77.6140, -10.6400])\n",
            "tensor([-30.8623,  -2.3864])\n",
            "tensor([-12.4631,   0.8587])\n",
            "tensor([-5.2218,  2.1327])\n",
            "tensor([-2.3715,  2.6310])\n",
            "tensor([-1.2492,  2.8241])\n",
            "tensor([-0.8071,  2.8970])\n",
            "tensor([-0.6325,  2.9227])\n",
            "tensor([-0.5633,  2.9298])\n",
            "tensor([-0.5355,  2.9295])\n",
            "tensor([-0.5240,  2.9264])\n",
            "tensor([-0.5190,  2.9222])\n",
            "tensor([-0.5165,  2.9175])\n",
            "tensor([-0.5150,  2.9126])\n",
            "tensor([-0.5138,  2.9077])\n",
            "tensor([-0.5129,  2.9028])\n",
            "tensor([-0.5120,  2.8979])\n",
            "tensor([-0.5111,  2.8930])\n",
            "tensor([-0.5102,  2.8881])\n",
            "tensor([-0.5093,  2.8832])\n",
            "tensor([-0.5084,  2.8783])\n",
            "tensor([-0.5076,  2.8734])\n",
            "tensor([-0.5067,  2.8685])\n",
            "tensor([-0.5059,  2.8636])\n",
            "tensor([-0.5050,  2.8588])\n",
            "tensor([-0.5042,  2.8539])\n",
            "tensor([-0.5033,  2.8490])\n",
            "tensor([-0.5024,  2.8442])\n",
            "tensor([-0.5016,  2.8394])\n",
            "tensor([-0.5007,  2.8346])\n",
            "tensor([-0.4999,  2.8297])\n",
            "tensor([-0.4990,  2.8249])\n",
            "tensor([-0.4982,  2.8201])\n",
            "tensor([-0.4973,  2.8153])\n",
            "tensor([-0.4965,  2.8106])\n",
            "tensor([-0.4957,  2.8058])\n",
            "tensor([-0.4948,  2.8010])\n",
            "tensor([-0.4940,  2.7963])\n",
            "tensor([-0.4931,  2.7915])\n",
            "tensor([-0.4923,  2.7868])\n",
            "tensor([-0.4915,  2.7820])\n",
            "tensor([-0.4906,  2.7773])\n",
            "tensor([-0.4898,  2.7726])\n",
            "tensor([-0.4890,  2.7679])\n",
            "tensor([-0.4881,  2.7632])\n",
            "tensor([-0.4873,  2.7585])\n",
            "tensor([-0.4865,  2.7538])\n",
            "tensor([-0.4856,  2.7491])\n",
            "tensor([-0.4848,  2.7444])\n",
            "tensor([-0.4840,  2.7398])\n",
            "tensor([-0.4832,  2.7351])\n",
            "tensor([-0.4823,  2.7305])\n",
            "tensor([-0.4815,  2.7258])\n",
            "tensor([-0.4807,  2.7212])\n",
            "tensor([-0.4799,  2.7166])\n",
            "tensor([-0.4791,  2.7120])\n",
            "tensor([-0.4783,  2.7074])\n",
            "tensor([-0.4775,  2.7028])\n",
            "tensor([-0.4766,  2.6982])\n",
            "tensor([-0.4758,  2.6936])\n",
            "tensor([-0.4750,  2.6890])\n",
            "tensor([-0.4742,  2.6845])\n",
            "tensor([-0.4734,  2.6799])\n",
            "tensor([-0.4726,  2.6753])\n",
            "tensor([-0.4718,  2.6708])\n",
            "tensor([-0.4710,  2.6663])\n",
            "tensor([-0.4702,  2.6617])\n",
            "tensor([-0.4694,  2.6572])\n",
            "tensor([-0.4686,  2.6527])\n",
            "tensor([-0.4678,  2.6482])\n",
            "tensor([-0.4670,  2.6437])\n",
            "tensor([-0.4662,  2.6392])\n",
            "tensor([-0.4654,  2.6347])\n",
            "tensor([-0.4646,  2.6302])\n",
            "tensor([-0.4638,  2.6258])\n",
            "tensor([-0.4631,  2.6213])\n",
            "tensor([-0.4623,  2.6169])\n",
            "tensor([-0.4615,  2.6124])\n",
            "tensor([-0.4607,  2.6080])\n",
            "tensor([-0.4599,  2.6035])\n",
            "tensor([-0.4591,  2.5991])\n",
            "tensor([-0.4584,  2.5947])\n",
            "tensor([-0.4576,  2.5903])\n",
            "tensor([-0.4568,  2.5859])\n",
            "tensor([-0.4560,  2.5815])\n",
            "tensor([-0.4553,  2.5771])\n",
            "tensor([-0.4545,  2.5727])\n",
            "tensor([-0.4537,  2.5684])\n",
            "tensor([-0.4529,  2.5640])\n",
            "tensor([-0.4522,  2.5597])\n",
            "tensor([-0.4514,  2.5553])\n",
            "tensor([-0.4506,  2.5510])\n",
            "tensor([-0.4499,  2.5466])\n",
            "tensor([-0.4491,  2.5423])\n",
            "tensor([-0.4483,  2.5380])\n",
            "tensor([-0.4476,  2.5337])\n",
            "tensor([-0.4468,  2.5294])\n",
            "tensor([-0.4461,  2.5251])\n",
            "tensor([-0.4453,  2.5208])\n",
            "tensor([-0.4445,  2.5165])\n",
            "After iteration 100, Loss 22.148710\n"
          ]
        },
        {
          "data": {
            "text/plain": [
              "tensor([ 2.7553, -2.5162])"
            ]
          },
          "execution_count": 37,
          "metadata": {},
          "output_type": "execute_result"
        }
      ],
      "source": [
        "training_loop_print_grad(n_iters = 100,\n",
        "              learning_rate = 1e-2,\n",
        "              params = torch.tensor([1.0, 0.0]),\n",
        "              t_u = t_u * 0.1,\n",
        "              t_c = t_c)"
      ]
    },
    {
      "cell_type": "markdown",
      "metadata": {
        "id": "MjSmYPQ0c3DQ"
      },
      "source": [
        "#### Ćwiczenie\n",
        "\n",
        "Uruchom `training_loop` (nie ma potrzeby wypisywania gradientów) dla większej liczby iteracji - sparwdź np. 1000, 2000, 5000, 10000. Niech `learning_rate` wynosi 0.01. Pamiętaj o przeskalowaniu wejść do modelu (`t_u * 0.1`).\n",
        "\n",
        "Przypisz wartości parametrów (zwracane przez funkcję) do zmiennej `params`."
      ]
    },
    {
      "cell_type": "code",
      "execution_count": 64,
      "metadata": {
        "id": "kE7j2m9Fc3DT"
      },
      "outputs": [
        {
          "name": "stdout",
          "output_type": "stream",
          "text": [
            "After iteration 1000, Loss 3.828538\n",
            "tensor([  4.8021, -14.1031])\n",
            "After iteration 2000, Loss 2.957698\n",
            "tensor([  5.2644, -16.7200])\n",
            "After iteration 5000, Loss 2.927648\n",
            "tensor([  5.3671, -17.3012])\n",
            "After iteration 10000, Loss 2.927645\n",
            "tensor([  5.3676, -17.3042])\n"
          ]
        }
      ],
      "source": [
        "w = 1.0\n",
        "b = 0.0\n",
        "params = torch.tensor([w, b])\n",
        "x = training_loop(1000, 0.01, params, t_u * 0.1, t_c)\n",
        "print(x)\n",
        "params = torch.tensor([w, b])\n",
        "x = training_loop(2000, 0.01, params, t_u * 0.1, t_c)\n",
        "print(x)\n",
        "params = torch.tensor([w, b])\n",
        "x = training_loop(5000, 0.01, params, t_u * 0.1, t_c)\n",
        "print(x)\n",
        "params = torch.tensor([w, b])\n",
        "x = training_loop(10000, 0.01, params, t_u * 0.1, t_c)\n",
        "print(x)"
      ]
    },
    {
      "cell_type": "markdown",
      "metadata": {
        "id": "mfd1q1Cmc3DU"
      },
      "source": [
        "#### Ćwiczenie\n",
        "\n",
        "Uruchom poniższy kod, aby zwizualizować dopasowanie modelu do danych (przy znalezionych parametrach)."
      ]
    },
    {
      "cell_type": "code",
      "execution_count": 66,
      "metadata": {
        "id": "WRjD5JXnc3DU"
      },
      "outputs": [
        {
          "name": "stdout",
          "output_type": "stream",
          "text": [
            "tensor(-38.7747)\n"
          ]
        },
        {
          "data": {
            "image/png": "[encoded data removed]",
            "text/plain": [
              "<Figure size 640x480 with 1 Axes>"
            ]
          },
          "metadata": {},
          "output_type": "display_data"
        }
      ],
      "source": [
        "import matplotlib.pyplot as plt\n",
        "\n",
        "t_p = model(t_u * 0.1, *x)\n",
        "\n",
        "plt.plot(t_u.numpy(), t_p.detach().numpy())\n",
        "plt.plot(t_u.numpy(), t_c.numpy(), 'o')\n",
        "\n",
        "y = model(-40.0 * 0.1, *x)\n",
        "print(y)"
      ]
    },
    {
      "cell_type": "markdown",
      "metadata": {
        "id": "M5WzsWaZc3DU"
      },
      "source": [
        "#### Ćwiczenie\n",
        "1. Jaki będzie ostatecznie \"wzór\" przeliczający skalę \"unknown\" na stopnie Celsjusza?\n",
        "2. Czy wiesz, jaka skala kryje się pod \"unknown\"?  \n",
        "3. Dla jakiej temperatury wartość na obu skalach będzie taka sama?"
      ]
    }
  ],
  "metadata": {
    "colab": {
      "provenance": []
    },
    "kernelspec": {
      "display_name": "Python 3",
      "language": "python",
      "name": "python3"
    },
    "language_info": {
      "codemirror_mode": {
        "name": "ipython",
        "version": 3
      },
      "file_extension": ".py",
      "mimetype": "text/x-python",
      "name": "python",
      "nbconvert_exporter": "python",
      "pygments_lexer": "ipython3",
      "version": "3.11.8"
    }
  },
  "nbformat": 4,
  "nbformat_minor": 0
}
