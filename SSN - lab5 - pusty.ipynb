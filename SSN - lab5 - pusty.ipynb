{
 "cells": [
  {
   "cell_type": "markdown",
   "metadata": {},
   "source": [
    "## Sztuczne sieci neuronowe - laboratorium 5\n",
    "\n",
    "### Sieci neuronowe - klasyfikacja\n",
    "\n",
    "Na poprzednich zajęciach wytrenowaliśmy prostą sieć neuronową w zagadnieniu regresji.\n",
    "\n",
    "Dzisiejsze laboratorium będzie dotyczyło wykorzystania (gęstej) sieci neuronowej do klasyfikacji. Będziemy pracowali z danymi obrazkowymi.\n",
    "\n",
    "Poza biblioteką `torch` należy także doinstalować pakiet `torchvision`."
   ]
  },
  {
   "cell_type": "code",
   "execution_count": null,
   "metadata": {},
   "outputs": [],
   "source": [
    "pip install torchvision"
   ]
  },
  {
   "cell_type": "code",
   "execution_count": 1,
   "metadata": {},
   "outputs": [],
   "source": [
    "import torch\n",
    "import torch.nn as nn\n",
    "import torch.optim as optim"
   ]
  },
  {
   "cell_type": "code",
   "execution_count": 2,
   "metadata": {},
   "outputs": [],
   "source": [
    "from torchvision import datasets\n",
    "from torchvision import transforms"
   ]
  },
  {
   "cell_type": "markdown",
   "metadata": {},
   "source": [
    "### CIFAR-10\n",
    "Zbiór CIFAR-10 składa się z 60 tysięcy kolorowych obrazków (RGB) rozmiaru 32x32 reprezentujących 10 klas obiektów:\n",
    "- 0 - samoloty (airplane)\n",
    "- 1 - samochody (automobile)\n",
    "- 2 - ptaki (bird)\n",
    "- 3 - koty (cat)\n",
    "- 4 - jelenie (deer)\n",
    "- 5 - psy (dog)\n",
    "- 6 - żaby (frog)\n",
    "- 7 - konie (horse)\n",
    "- 8 - statki (ship)\n",
    "- 9 - ciężarówki (truck)\n",
    "\n",
    "Został opracowany przez naukowców z CIFAR - Canadian Institute For Advanced Research.\n",
    "\n",
    "Biblioteka `torchvision` zawiera implementacje modeli sieci neuronowych wykorzystywanych do przetwarzania obrazu (wrócimy do nich w późniejszych laboratoriach), a także ma wbudowane przykładowe zbiory danych - CIFAR-10, CIFAR-100, MNIST, Fashion-MNIST i inne."
   ]
  },
  {
   "cell_type": "code",
   "execution_count": 18,
   "metadata": {},
   "outputs": [],
   "source": [
    "class_names = {\n",
    "    0: \"airplane\", \n",
    "    1: \"automobile\", \n",
    "    2: \"bird\", \n",
    "    3: \"cat\", \n",
    "    4: \"deer\", \n",
    "    5: \"dog\", \n",
    "    6: \"frog\",\n",
    "    7: \"horse\",\n",
    "    8: \"ship\",\n",
    "    9: \"truck\"\n",
    "}"
   ]
  },
  {
   "cell_type": "markdown",
   "metadata": {},
   "source": [
    "#### Ćwiczenie\n",
    "\n",
    "W `torchvision.datasets` dostępna jest klasa `CIFAR10`, która pozwala wczytać (lub pobrać i wczytać) dane pochodzące z tego zbioru. Można to zrobić tworząc obiekt tej klasy, podając jako argumenty konstruktora kolejno:\n",
    "- katalog z danymi (lub do którego dane mają zostać pobrane)\n",
    "- parametr `train` typu True/False - do wczytania osobno zbioru uczącego i walidacyjnego\n",
    "- parametr `download` - True/False czy w przypadku braku danych w podanym katalogu PyTorch ma je pobrać na dysk\n",
    "\n",
    "Wczytaj zbiór uczący i walidacyjny odpowiednio do zmiennych `cifar10` i `cifar10_val`.\n",
    "Wywołaj `type(cifar10).__mro__`, aby sprawdzić, jakiej klasy jest ten obiekt i po jakich klasach ona dziedziczy (MRO - Method Resolution Order)."
   ]
  },
  {
   "cell_type": "code",
   "execution_count": 4,
   "metadata": {},
   "outputs": [
    {
     "name": "stdout",
     "output_type": "stream",
     "text": [
      "Downloading https://www.cs.toronto.edu/~kriz/cifar-10-python.tar.gz to ./data\\cifar-10-python.tar.gz\n"
     ]
    },
    {
     "name": "stderr",
     "output_type": "stream",
     "text": [
      "100%|██████████| 170498071/170498071 [00:23<00:00, 7159060.54it/s] \n"
     ]
    },
    {
     "name": "stdout",
     "output_type": "stream",
     "text": [
      "Extracting ./data\\cifar-10-python.tar.gz to ./data\n",
      "Files already downloaded and verified\n",
      "(<class 'torchvision.datasets.cifar.CIFAR10'>, <class 'torchvision.datasets.vision.VisionDataset'>, <class 'torch.utils.data.dataset.Dataset'>, <class 'typing.Generic'>, <class 'object'>)\n"
     ]
    }
   ],
   "source": [
    "cifar10 = datasets.CIFAR10(root='./data', train=True, download=True)\n",
    "cifar10_val = datasets.CIFAR10(root='./data', train=False, download=True)\n",
    "\n",
    "print(type(cifar10).__mro__)"
   ]
  },
  {
   "cell_type": "markdown",
   "metadata": {},
   "source": [
    "### Klasa Dataset\n",
    "\n",
    "W PyTorchu do reprezentowania zbiorów danych typowo wykorzystuje się klasę `torch.utils.data.Dataset`. Obiekty tej klasy muszą posiadać implementacje co najmniej dwóch metod: **\\_\\_len\\_\\_** oraz **\\_\\_getitem\\_\\_**. Pierwsza z nich powinna zwracać liczbę obserwacji w zbiorze danych, a druga - element zbioru (cechy i etykietę - w przypadku uczenia z nadzorem) odpowiadający podanemu indeksowi.\n",
    "\n",
    "Metodę \\_\\_len\\_\\_ w Pythonie wywołuje się jako **len(obiekt)**. Metodę \\_\\_getitem\\_\\_ - poprzez **obiekt[indeks]** - tak jak np. w przypadku listy."
   ]
  },
  {
   "cell_type": "markdown",
   "metadata": {},
   "source": [
    "#### Ćwiczenie\n",
    "Sprawdź wywołania powyżej opisanych metod dla `cifar10` i `cifar10_val` (wybierz dowolny indeks - lub kilka różnych po kolei - z dozwolonego zakresu). Do zapoznania się ze zbiorem danych wykorzystaj funkcję `plt.imshow(img)` i sprawdź zgodność etykiety z obrazkiem z wykorzystaniem słownika `class_names`."
   ]
  },
  {
   "cell_type": "code",
   "execution_count": 5,
   "metadata": {},
   "outputs": [
    {
     "name": "stdout",
     "output_type": "stream",
     "text": [
      "Data Len: 50000\n",
      "Label: 3\n"
     ]
    },
    {
     "data": {
      "image/png": "[encoded data removed]",
      "text/plain": [
       "<Figure size 640x480 with 1 Axes>"
      ]
     },
     "metadata": {},
     "output_type": "display_data"
    },
    {
     "name": "stdout",
     "output_type": "stream",
     "text": [
      "Class: cat\n",
      "Data_val Len: 10000\n",
      "Label_val: 2\n"
     ]
    },
    {
     "data": {
      "image/png": "[encoded data removed]",
      "text/plain": [
       "<Figure size 640x480 with 1 Axes>"
      ]
     },
     "metadata": {},
     "output_type": "display_data"
    },
    {
     "name": "stdout",
     "output_type": "stream",
     "text": [
      "Class_val: bird\n"
     ]
    }
   ],
   "source": [
    "import matplotlib.pyplot as plt\n",
    "\n",
    "index = 2137 \n",
    "\n",
    "image, label = cifar10[index]\n",
    "print(\"Data Len:\", len(cifar10))\n",
    "print(\"Label:\", label)\n",
    "plt.imshow(image)\n",
    "plt.axis('off')\n",
    "plt.show()\n",
    "print(\"Class:\", class_names[label])\n",
    "\n",
    "\n",
    "image_val, label_val = cifar10_val[index]\n",
    "print(\"Data_val Len:\", len(cifar10_val))\n",
    "print(\"Label_val:\", label_val)\n",
    "plt.imshow(image_val)\n",
    "plt.axis('off')\n",
    "plt.show()\n",
    "print(\"Class_val:\", class_names[label_val])"
   ]
  },
  {
   "cell_type": "code",
   "execution_count": null,
   "metadata": {},
   "outputs": [],
   "source": []
  },
  {
   "cell_type": "markdown",
   "metadata": {},
   "source": [
    "### Obrazek jako tensor\n",
    "\n",
    "Wczytany z użyciem `torchvision` zbiór CIFAR10 zawiera obrazki w postaci obiektów klasy `PIL.Image`. Przed użyciem w treningu modelu należy je przekształcić do postaci tensorów. Różne transformacje obrazów są dostępne w `torchvision.transforms` - będziemy się nimi zajmować mocniej w późniejszym czasie (np. przy okazji zagadnienia \"data augmentation\"). Dziś wykorzystamy je do konwersji obrazków RGB do tensorów oraz do normalizacji danych."
   ]
  },
  {
   "cell_type": "code",
   "execution_count": 6,
   "metadata": {},
   "outputs": [],
   "source": [
    "from torchvision import transforms"
   ]
  },
  {
   "cell_type": "code",
   "execution_count": 7,
   "metadata": {},
   "outputs": [
    {
     "data": {
      "text/plain": [
       "['AugMix',\n",
       " 'AutoAugment',\n",
       " 'AutoAugmentPolicy',\n",
       " 'CenterCrop',\n",
       " 'ColorJitter',\n",
       " 'Compose',\n",
       " 'ConvertImageDtype',\n",
       " 'ElasticTransform',\n",
       " 'FiveCrop',\n",
       " 'GaussianBlur',\n",
       " 'Grayscale',\n",
       " 'InterpolationMode',\n",
       " 'Lambda',\n",
       " 'LinearTransformation',\n",
       " 'Normalize',\n",
       " 'PILToTensor',\n",
       " 'Pad',\n",
       " 'RandAugment',\n",
       " 'RandomAdjustSharpness',\n",
       " 'RandomAffine',\n",
       " 'RandomApply',\n",
       " 'RandomAutocontrast',\n",
       " 'RandomChoice',\n",
       " 'RandomCrop',\n",
       " 'RandomEqualize',\n",
       " 'RandomErasing',\n",
       " 'RandomGrayscale',\n",
       " 'RandomHorizontalFlip',\n",
       " 'RandomInvert',\n",
       " 'RandomOrder',\n",
       " 'RandomPerspective',\n",
       " 'RandomPosterize',\n",
       " 'RandomResizedCrop',\n",
       " 'RandomRotation',\n",
       " 'RandomSolarize',\n",
       " 'RandomVerticalFlip',\n",
       " 'Resize',\n",
       " 'TenCrop',\n",
       " 'ToPILImage',\n",
       " 'ToTensor',\n",
       " 'TrivialAugmentWide',\n",
       " '__builtins__',\n",
       " '__cached__',\n",
       " '__doc__',\n",
       " '__file__',\n",
       " '__loader__',\n",
       " '__name__',\n",
       " '__package__',\n",
       " '__path__',\n",
       " '__spec__',\n",
       " '_functional_pil',\n",
       " '_functional_tensor',\n",
       " '_presets',\n",
       " 'autoaugment',\n",
       " 'functional',\n",
       " 'transforms']"
      ]
     },
     "execution_count": 7,
     "metadata": {},
     "output_type": "execute_result"
    }
   ],
   "source": [
    "dir(transforms)"
   ]
  },
  {
   "cell_type": "markdown",
   "metadata": {},
   "source": [
    "#### Ćwiczenie\n",
    "\n",
    "Do konwersji wybranego obrazka z CIFAR10 z `PIL.Image` do `torch.Tensor` użyj transformacji `transforms.ToTensor()`. Należy najpierw przypisać `transforms.ToTensor()` do zmiennej, np. `to_tensor`, a następnie wywołać `to_tensor(img)` i wynik przypisać do zmiennej, np. `img_t`.\n",
    "\n",
    "1. Sprawdź zawartość `img_t` oraz wartość `img_t.shape`. Zajrzyj też w \"oryginalny\" `img` - użyj `list(img.getdata())`.\n",
    "2. Co się stało z wartościami w `img_t` w porównaniu z `img`? Jak zinterpretować kolejne wymiary tego tensora w `img_t.shape`?\n",
    "\n",
    "- https://pytorch.org/vision/stable/transforms.html#torchvision.transforms.ToTensor"
   ]
  },
  {
   "cell_type": "code",
   "execution_count": 8,
   "metadata": {},
   "outputs": [
    {
     "name": "stdout",
     "output_type": "stream",
     "text": [
      "Zawartość img_t: tensor([[[0.9020, 0.8784, 0.9098,  ..., 0.9451, 0.8941, 0.8078],\n",
      "         [0.7725, 0.6471, 0.7020,  ..., 0.7765, 0.4706, 0.2863],\n",
      "         [0.7451, 0.5961, 0.6706,  ..., 0.7216, 0.5647, 0.4471],\n",
      "         ...,\n",
      "         [0.5490, 0.3961, 0.4118,  ..., 0.4157, 0.4039, 0.3059],\n",
      "         [0.5255, 0.3529, 0.3647,  ..., 0.3882, 0.3804, 0.2863],\n",
      "         [0.3569, 0.2118, 0.2235,  ..., 0.2235, 0.2275, 0.2196]],\n",
      "\n",
      "        [[0.9020, 0.8784, 0.9137,  ..., 0.9333, 0.8784, 0.8039],\n",
      "         [0.7725, 0.6431, 0.6941,  ..., 0.7490, 0.4353, 0.2706],\n",
      "         [0.7451, 0.5882, 0.6549,  ..., 0.6824, 0.5294, 0.4235],\n",
      "         ...,\n",
      "         [0.5176, 0.3647, 0.3843,  ..., 0.3882, 0.3843, 0.2902],\n",
      "         [0.5059, 0.3373, 0.3490,  ..., 0.3725, 0.3647, 0.2706],\n",
      "         [0.3529, 0.2078, 0.2157,  ..., 0.2157, 0.2157, 0.2039]],\n",
      "\n",
      "        [[0.9059, 0.8824, 0.9176,  ..., 0.9333, 0.8784, 0.8000],\n",
      "         [0.7725, 0.6510, 0.7137,  ..., 0.7333, 0.4157, 0.2510],\n",
      "         [0.7333, 0.5804, 0.6549,  ..., 0.6667, 0.5020, 0.4039],\n",
      "         ...,\n",
      "         [0.5255, 0.3725, 0.3922,  ..., 0.3961, 0.3922, 0.2941],\n",
      "         [0.5137, 0.3412, 0.3529,  ..., 0.3765, 0.3686, 0.2745],\n",
      "         [0.3529, 0.2078, 0.2196,  ..., 0.2196, 0.2196, 0.2078]]])\n",
      "Shape img_t: torch.Size([3, 32, 32])\n",
      "Zawartość oryginalnego obrazka: [(230, 230, 231), (224, 224, 225), (232, 233, 234), (232, 230, 229), (235, 234, 231), (224, 226, 222), (224, 223, 221), (231, 228, 227), (248, 248, 247), (249, 249, 247), (247, 247, 243), (246, 247, 241), (245, 243, 237), (247, 244, 241), (248, 245, 242), (242, 241, 232), (238, 235, 229), (244, 240, 237), (246, 242, 239), (247, 243, 239), (248, 245, 241), (246, 243, 239), (246, 242, 236), (242, 233, 224), (214, 203, 192), (205, 197, 189), (218, 215, 212), (239, 241, 240), (238, 240, 239), (241, 238, 238), (228, 224, 224), (206, 205, 204), (197, 197, 197), (165, 164, 166), (179, 177, 182), (186, 181, 180), (194, 190, 183), (189, 190, 182), (180, 180, 170), (186, 183, 173), (221, 221, 213), (233, 233, 225), (228, 229, 218), (226, 226, 215), (218, 213, 203), (227, 220, 213), (227, 220, 212), (213, 206, 192), (193, 186, 170), (205, 196, 184), (225, 216, 206), (220, 210, 203), (225, 216, 208), (212, 204, 193), (206, 197, 184), (190, 177, 164), (148, 135, 123), (141, 133, 125), (168, 165, 162), (194, 195, 194), (196, 195, 195), (198, 191, 187), (120, 111, 106), (73, 69, 64), (190, 190, 187), (152, 150, 148), (171, 167, 167), (169, 161, 154), (184, 177, 167), (212, 210, 201), (210, 208, 196), (206, 204, 189), (210, 207, 196), (229, 227, 216), (223, 222, 208), (216, 214, 200), (219, 214, 202), (233, 225, 215), (223, 214, 202), (216, 205, 187), (201, 190, 170), (204, 194, 176), (221, 210, 194), (219, 208, 195), (222, 212, 198), (209, 200, 183), (200, 189, 169), (167, 155, 138), (137, 124, 113), (146, 138, 131), (171, 168, 165), (184, 183, 183), (189, 185, 186), (184, 174, 170), (144, 135, 128), (114, 108, 103), (221, 222, 216), (194, 192, 183), (211, 206, 195), (187, 176, 161), (206, 196, 182), (223, 218, 212), (220, 217, 209), (216, 211, 200), (218, 212, 202), (223, 218, 207), (219, 214, 202), (213, 209, 195), (224, 220, 208), (233, 227, 216), (222, 213, 200), (219, 208, 188), (201, 191, 169), (213, 205, 185), (207, 199, 180), (213, 204, 185), (219, 210, 192), (209, 200, 180), (198, 189, 165), (154, 145, 126), (141, 131, 122), (149, 142, 135), (174, 172, 168), (188, 186, 186), (192, 185, 187), (188, 182, 180), (194, 190, 186), (178, 173, 170), (230, 230, 223), (194, 190, 177), (206, 200, 183), (207, 196, 176), (208, 196, 181), (208, 201, 194), (206, 201, 194), (203, 197, 187), (214, 206, 197), (228, 221, 209), (230, 223, 210), (222, 216, 203), (225, 223, 213), (232, 229, 219), (221, 214, 201), (218, 210, 189), (198, 189, 169), (221, 213, 195), (211, 203, 183), (199, 192, 168), (198, 191, 168), (189, 181, 158), (185, 178, 150), (139, 133, 113), (136, 129, 122), (148, 142, 136), (176, 172, 169), (189, 186, 185), (191, 183, 184), (190, 187, 187), (213, 213, 212), (177, 175, 173), (227, 222, 217), (190, 180, 170), (207, 195, 185), (215, 204, 193), (210, 199, 187), (207, 199, 185), (197, 189, 172), (190, 182, 167), (204, 194, 184), (223, 214, 198), (221, 213, 195), (219, 211, 196), (226, 223, 215), (233, 231, 221), (219, 215, 200), (216, 210, 190), (205, 195, 176), (214, 202, 184), (210, 200, 179), (199, 191, 167), (197, 189, 163), (201, 191, 163), (178, 168, 137), (131, 124, 101), (145, 141, 131), (161, 156, 151), (181, 176, 172), (188, 183, 179), (187, 182, 179), (199, 197, 195), (238, 239, 239), (185, 184, 184), (229, 223, 219), (198, 186, 180), (215, 202, 196), (220, 210, 202), (218, 208, 196), (217, 208, 193), (204, 196, 176), (205, 196, 178), (211, 201, 189), (214, 206, 188), (208, 200, 180), (201, 192, 176), (218, 212, 198), (227, 221, 206), (217, 210, 192), (210, 202, 181), (199, 188, 166), (189, 177, 155), (201, 190, 168), (213, 205, 182), (202, 193, 171), (198, 187, 162), (178, 167, 141), (130, 122, 103), (148, 144, 135), (162, 157, 153), (180, 175, 171), (187, 182, 178), (186, 181, 177), (213, 211, 210), (250, 250, 250), (183, 183, 183), (226, 221, 217), (194, 182, 178), (215, 201, 199), (220, 210, 201), (219, 210, 195), (221, 213, 195), (198, 190, 171), (189, 180, 162), (198, 187, 172), (206, 196, 177), (207, 196, 178), (196, 186, 169), (207, 197, 175), (201, 191, 170), (206, 195, 175), (217, 205, 182), (205, 194, 168), (197, 186, 162), (197, 188, 166), (217, 209, 189), (209, 202, 183), (209, 198, 181), (193, 180, 163), (147, 136, 125), (141, 134, 129), (157, 152, 149), (178, 173, 169), (186, 181, 177), (185, 180, 176), (218, 216, 215), (253, 253, 253), (183, 183, 183), (224, 219, 215), (177, 165, 158), (190, 177, 170), (197, 188, 175), (199, 190, 172), (208, 200, 181), (195, 187, 168), (182, 173, 154), (168, 156, 139), (163, 151, 131), (152, 140, 121), (153, 141, 124), (156, 143, 116), (170, 157, 134), (203, 190, 174), (225, 213, 194), (218, 207, 186), (215, 205, 185), (206, 197, 179), (221, 214, 197), (221, 214, 199), (219, 210, 196), (204, 190, 179), (166, 153, 146), (144, 136, 132), (156, 151, 147), (175, 170, 166), (184, 179, 175), (177, 172, 168), (216, 215, 213), (255, 255, 255), (184, 184, 184), (226, 221, 217), (177, 166, 154), (173, 162, 146), (192, 183, 165), (185, 177, 156), (191, 183, 163), (207, 200, 180), (186, 177, 158), (140, 127, 109), (146, 134, 112), (129, 117, 98), (130, 117, 101), (136, 123, 95), (176, 163, 142), (213, 200, 191), (228, 216, 207), (226, 215, 205), (229, 219, 209), (211, 202, 191), (219, 213, 200), (217, 211, 197), (213, 204, 192), (205, 191, 183), (181, 166, 160), (152, 142, 136), (147, 142, 137), (173, 168, 164), (182, 177, 173), (179, 174, 170), (220, 218, 216), (255, 255, 255), (183, 183, 183), (224, 218, 214), (180, 170, 157), (181, 171, 154), (193, 185, 167), (189, 182, 164), (192, 186, 168), (204, 197, 178), (164, 154, 133), (122, 110, 84), (131, 119, 93), (135, 121, 100), (139, 123, 105), (152, 135, 110), (171, 155, 136), (199, 185, 176), (203, 192, 183), (189, 179, 169), (190, 180, 170), (181, 172, 161), (186, 178, 166), (186, 178, 163), (189, 180, 167), (194, 183, 174), (195, 185, 177), (152, 145, 137), (141, 135, 129), (172, 166, 161), (180, 175, 171), (179, 175, 171), (221, 219, 217), (253, 253, 253), (182, 182, 182), (231, 225, 220), (195, 184, 174), (196, 186, 174), (191, 184, 171), (186, 181, 169), (187, 184, 171), (189, 182, 167), (145, 135, 113), (122, 111, 82), (129, 115, 89), (143, 126, 104), (149, 129, 109), (158, 137, 113), (175, 157, 133), (171, 156, 138), (160, 147, 132), (158, 148, 132), (147, 139, 121), (162, 153, 136), (175, 163, 146), (161, 149, 132), (159, 149, 135), (164, 156, 144), (208, 204, 194), (161, 158, 151), (129, 123, 117), (168, 162, 157), (176, 170, 166), (176, 171, 167), (219, 217, 214), (252, 252, 251), (179, 179, 179), (223, 216, 208), (179, 170, 156), (169, 160, 145), (177, 168, 157), (183, 176, 169), (188, 184, 176), (189, 181, 169), (125, 114, 97), (116, 103, 86), (139, 124, 107), (139, 121, 104), (150, 129, 111), (164, 144, 120), (166, 149, 125), (161, 146, 127), (144, 132, 116), (154, 144, 128), (150, 141, 121), (186, 175, 152), (189, 177, 152), (181, 169, 147), (164, 153, 138), (140, 132, 119), (179, 173, 162), (155, 151, 143), (120, 117, 113), (158, 155, 152), (170, 167, 162), (172, 167, 163), (218, 216, 213), (253, 252, 250), (179, 178, 176), (210, 203, 193), (158, 148, 133), (156, 147, 130), (169, 161, 149), (173, 165, 161), (162, 155, 150), (159, 149, 139), (131, 118, 105), (129, 116, 100), (128, 113, 94), (143, 126, 104), (159, 139, 114), (160, 144, 117), (168, 153, 128), (150, 136, 116), (130, 117, 102), (135, 125, 110), (147, 137, 116), (178, 164, 138), (175, 162, 133), (177, 166, 141), (171, 159, 143), (162, 152, 137), (147, 138, 125), (129, 122, 112), (116, 113, 111), (153, 150, 147), (164, 161, 156), (163, 158, 155), (215, 213, 212), (255, 252, 249), (179, 174, 170), (214, 207, 198), (157, 147, 133), (154, 145, 129), (155, 145, 134), (163, 153, 148), (150, 142, 136), (131, 120, 110), (140, 127, 112), (135, 123, 104), (130, 116, 92), (153, 137, 109), (169, 151, 120), (160, 147, 118), (188, 175, 150), (152, 139, 119), (121, 108, 92), (114, 105, 89), (139, 128, 106), (170, 154, 126), (162, 148, 119), (161, 150, 127), (162, 149, 133), (169, 157, 141), (160, 149, 133), (129, 118, 105), (108, 100, 96), (137, 131, 124), (155, 150, 141), (148, 143, 141), (212, 210, 211), (246, 242, 238), (145, 137, 130), (216, 209, 203), (157, 147, 136), (154, 145, 132), (155, 145, 134), (154, 145, 136), (141, 133, 124), (124, 113, 100), (146, 132, 115), (153, 141, 123), (154, 140, 121), (156, 138, 117), (185, 166, 143), (194, 182, 154), (194, 183, 157), (156, 143, 123), (115, 101, 86), (104, 95, 78), (135, 123, 100), (165, 145, 119), (162, 145, 122), (159, 147, 130), (164, 151, 135), (160, 147, 131), (152, 139, 122), (148, 133, 118), (129, 113, 105), (115, 104, 91), (129, 123, 110), (141, 137, 136), (215, 214, 216), (235, 230, 225), (117, 107, 99), (213, 207, 203), (157, 146, 137), (158, 146, 137), (158, 149, 140), (147, 141, 132), (136, 128, 120), (121, 110, 97), (142, 128, 111), (165, 152, 136), (165, 153, 138), (168, 152, 138), (197, 179, 160), (206, 195, 165), (195, 185, 158), (160, 147, 129), (111, 97, 83), (99, 87, 73), (137, 123, 101), (169, 151, 122), (172, 157, 135), (146, 134, 120), (157, 144, 130), (167, 154, 138), (149, 139, 121), (159, 150, 132), (156, 140, 127), (124, 111, 97), (114, 107, 95), (122, 118, 115), (170, 166, 166), (164, 158, 154), (96, 89, 83), (210, 205, 201), (152, 140, 131), (154, 140, 130), (146, 140, 130), (143, 140, 132), (141, 134, 127), (126, 116, 103), (135, 122, 104), (164, 150, 129), (179, 168, 150), (181, 168, 148), (178, 162, 136), (182, 171, 138), (191, 181, 155), (171, 158, 142), (121, 107, 94), (90, 75, 62), (135, 120, 98), (188, 172, 140), (180, 168, 143), (135, 124, 111), (144, 130, 119), (151, 137, 117), (150, 141, 119), (151, 147, 128), (163, 152, 134), (134, 123, 108), (104, 96, 86), (103, 99, 94), (111, 105, 100), (111, 105, 100), (82, 80, 78), (220, 216, 211), (160, 149, 137), (138, 128, 111), (142, 137, 123), (146, 143, 133), (144, 138, 129), (131, 123, 110), (132, 121, 102), (159, 143, 119), (165, 150, 124), (159, 142, 112), (163, 145, 110), (178, 165, 131), (188, 175, 150), (176, 163, 144), (139, 126, 110), (88, 75, 59), (123, 108, 85), (197, 182, 150), (191, 179, 153), (146, 135, 120), (141, 126, 110), (158, 142, 109), (166, 151, 119), (159, 145, 126), (164, 151, 130), (151, 140, 122), (105, 97, 86), (97, 94, 85), (106, 101, 94), (108, 102, 98), (81, 77, 75), (214, 210, 205), (147, 139, 126), (141, 134, 116), (145, 141, 126), (149, 146, 135), (140, 135, 126), (115, 109, 97), (125, 116, 97), (146, 129, 104), (147, 128, 98), (160, 141, 104), (177, 158, 117), (179, 163, 131), (172, 157, 131), (164, 150, 128), (147, 135, 117), (102, 90, 73), (123, 109, 86), (193, 179, 151), (189, 178, 153), (155, 146, 129), (146, 132, 112), (169, 152, 113), (179, 159, 124), (164, 144, 123), (173, 159, 134), (171, 160, 141), (113, 106, 95), (94, 91, 82), (105, 100, 93), (109, 103, 98), (79, 74, 72), (211, 206, 202), (141, 134, 123), (144, 139, 127), (141, 137, 126), (129, 125, 117), (125, 120, 115), (94, 90, 83), (114, 107, 93), (160, 144, 118), (166, 146, 115), (179, 160, 124), (181, 162, 127), (168, 150, 122), (160, 143, 117), (165, 151, 126), (154, 143, 122), (117, 106, 89), (119, 105, 86), (183, 169, 147), (176, 166, 146), (159, 152, 134), (158, 148, 127), (168, 154, 123), (180, 164, 135), (172, 156, 133), (194, 181, 154), (185, 174, 157), (117, 108, 102), (90, 86, 80), (95, 91, 84), (102, 97, 92), (77, 71, 70), (220, 215, 211), (150, 143, 138), (121, 116, 113), (123, 118, 114), (103, 98, 94), (89, 84, 84), (66, 62, 61), (93, 87, 77), (141, 128, 102), (153, 135, 105), (166, 146, 116), (164, 147, 119), (169, 150, 125), (172, 154, 126), (173, 160, 131), (158, 147, 125), (91, 81, 67), (102, 89, 76), (168, 154, 139), (165, 155, 140), (174, 168, 150), (169, 162, 141), (168, 156, 138), (176, 165, 144), (188, 179, 153), (192, 180, 153), (163, 152, 138), (110, 100, 98), (93, 88, 86), (93, 89, 83), (93, 88, 83), (74, 66, 65), (217, 212, 212), (123, 116, 116), (125, 119, 121), (121, 114, 116), (80, 72, 74), (71, 63, 66), (69, 62, 65), (72, 63, 59), (118, 106, 85), (132, 117, 93), (143, 128, 103), (153, 140, 114), (171, 155, 127), (178, 164, 131), (184, 172, 143), (128, 116, 101), (85, 77, 69), (125, 118, 108), (160, 150, 139), (144, 134, 120), (145, 136, 119), (130, 122, 101), (142, 131, 113), (157, 144, 125), (170, 157, 134), (162, 148, 129), (122, 109, 98), (108, 98, 93), (107, 101, 98), (101, 96, 94), (101, 94, 94), (76, 67, 69), (176, 171, 172), (127, 122, 124), (127, 122, 124), (95, 88, 90), (81, 72, 75), (77, 69, 72), (69, 61, 64), (59, 50, 49), (86, 75, 64), (103, 92, 78), (107, 97, 78), (146, 136, 113), (168, 156, 130), (180, 169, 141), (173, 162, 139), (94, 83, 75), (102, 95, 93), (136, 133, 126), (135, 128, 120), (112, 101, 93), (86, 75, 65), (70, 59, 50), (76, 64, 55), (82, 69, 60), (97, 83, 74), (101, 88, 78), (98, 86, 78), (104, 96, 89), (102, 97, 93), (100, 95, 95), (107, 100, 103), (80, 72, 75), (177, 173, 174), (122, 118, 119), (79, 76, 77), (76, 72, 73), (79, 74, 75), (74, 69, 71), (70, 65, 66), (70, 64, 66), (70, 61, 63), (67, 60, 56), (66, 60, 49), (120, 114, 99), (153, 142, 127), (158, 147, 130), (107, 98, 85), (49, 39, 38), (77, 70, 69), (122, 118, 114), (93, 86, 83), (70, 60, 58), (61, 50, 50), (80, 69, 70), (77, 67, 69), (60, 53, 55), (72, 66, 67), (91, 84, 79), (99, 92, 87), (100, 96, 92), (96, 94, 92), (98, 92, 94), (106, 99, 101), (78, 72, 74), (173, 169, 170), (79, 77, 78), (81, 81, 81), (78, 77, 77), (79, 77, 77), (79, 77, 78), (78, 76, 77), (79, 75, 79), (81, 76, 84), (78, 73, 77), (72, 68, 65), (82, 78, 71), (103, 94, 88), (100, 89, 84), (72, 63, 60), (64, 55, 58), (67, 60, 62), (94, 89, 88), (75, 68, 69), (70, 62, 64), (75, 66, 68), (94, 86, 84), (97, 91, 90), (93, 89, 90), (93, 92, 92), (102, 98, 95), (103, 99, 96), (101, 99, 97), (99, 98, 96), (102, 96, 97), (108, 101, 104), (79, 74, 75), (129, 125, 126), (79, 78, 78), (86, 88, 87), (80, 81, 81), (80, 80, 80), (83, 83, 83), (85, 84, 84), (86, 84, 85), (92, 86, 90), (89, 83, 86), (86, 81, 81), (83, 78, 76), (87, 79, 79), (90, 81, 82), (87, 80, 82), (88, 82, 85), (89, 83, 86), (93, 87, 89), (97, 91, 91), (99, 94, 93), (99, 94, 90), (103, 98, 90), (101, 97, 92), (101, 96, 94), (103, 98, 98), (104, 100, 97), (103, 99, 95), (101, 97, 94), (103, 98, 95), (107, 99, 99), (108, 101, 103), (77, 74, 75), (117, 113, 114), (88, 87, 87), (88, 91, 90), (84, 86, 85), (90, 90, 90), (92, 92, 92), (89, 90, 90), (93, 92, 91), (97, 91, 89), (89, 83, 82), (90, 84, 84), (89, 82, 84), (87, 80, 82), (90, 82, 86), (91, 85, 89), (85, 80, 82), (89, 84, 87), (92, 86, 89), (96, 91, 90), (97, 93, 88), (98, 95, 88), (100, 97, 92), (106, 101, 99), (108, 100, 102), (109, 99, 104), (108, 101, 99), (108, 102, 97), (104, 97, 93), (104, 97, 92), (111, 101, 101), (108, 101, 103), (76, 73, 74), (128, 120, 123), (94, 88, 90), (98, 92, 94), (99, 92, 94), (105, 99, 101), (102, 99, 100), (94, 95, 95), (92, 93, 92), (89, 88, 86), (87, 85, 84), (88, 86, 87), (88, 86, 86), (86, 85, 85), (87, 85, 86), (88, 83, 85), (91, 83, 86), (94, 86, 89), (96, 88, 91), (101, 93, 94), (103, 95, 95), (102, 94, 95), (103, 96, 96), (108, 99, 102), (109, 100, 104), (107, 98, 102), (108, 99, 101), (108, 99, 100), (106, 97, 98), (109, 100, 101), (108, 100, 102), (105, 99, 101), (78, 75, 76), (140, 132, 134), (101, 93, 95), (105, 98, 100), (107, 98, 101), (107, 99, 101), (103, 99, 101), (98, 98, 98), (93, 94, 93), (88, 88, 88), (92, 92, 92), (95, 95, 95), (94, 95, 95), (91, 93, 92), (90, 90, 90), (89, 84, 86), (95, 86, 89), (102, 93, 96), (106, 99, 101), (107, 99, 102), (105, 97, 100), (104, 96, 99), (104, 96, 98), (103, 95, 98), (100, 93, 95), (102, 95, 97), (106, 98, 101), (110, 103, 105), (112, 105, 107), (114, 106, 109), (106, 99, 101), (103, 98, 100), (78, 74, 75), (134, 129, 131), (90, 86, 87), (93, 89, 90), (94, 88, 90), (92, 88, 89), (93, 90, 91), (92, 92, 92), (87, 87, 87), (85, 85, 85), (87, 87, 87), (95, 95, 95), (91, 91, 91), (89, 89, 89), (90, 89, 90), (91, 88, 89), (91, 85, 87), (91, 86, 88), (94, 90, 91), (94, 89, 91), (90, 85, 86), (91, 87, 88), (90, 85, 86), (88, 84, 85), (87, 82, 84), (93, 88, 90), (95, 91, 92), (99, 95, 96), (100, 95, 96), (99, 94, 95), (99, 95, 96), (97, 93, 94), (73, 69, 70), (91, 90, 90), (54, 53, 53), (57, 55, 56), (56, 55, 55), (56, 54, 55), (57, 57, 57), (58, 58, 58), (53, 53, 53), (53, 53, 53), (56, 56, 56), (55, 55, 55), (57, 57, 57), (59, 59, 59), (58, 58, 58), (58, 57, 57), (57, 56, 56), (56, 55, 55), (57, 55, 56), (57, 55, 56), (56, 54, 55), (55, 54, 54), (53, 52, 52), (52, 50, 51), (53, 52, 52), (54, 53, 53), (59, 57, 58), (59, 58, 58), (58, 57, 58), (58, 56, 57), (57, 55, 56), (58, 55, 56), (56, 52, 53)]\n"
     ]
    }
   ],
   "source": [
    "to_tensor = transforms.ToTensor()\n",
    "img_t = to_tensor(image)\n",
    "\n",
    "print(\"Zawartość img_t:\", img_t)\n",
    "print(\"Shape img_t:\", img_t.shape)\n",
    "\n",
    "print(\"Zawartość oryginalnego obrazka:\", list(image.getdata()))"
   ]
  },
  {
   "cell_type": "markdown",
   "metadata": {},
   "source": [
    "#### Ćwiczenie\n",
    "Transformację `ToTensor()` można podać jako argument `transform` przy tworzeniu zbioru danych jako `Dataset`. Tak utworzony zbiór od razu będzie zawierał PyTorchowe tensory, a nie obrazki `PIL.Image`. \n",
    "\n",
    "Stwórz `tensor_cifar10` i `tensor_cifar10_val` zawierające tensory."
   ]
  },
  {
   "cell_type": "code",
   "execution_count": 9,
   "metadata": {},
   "outputs": [
    {
     "name": "stdout",
     "output_type": "stream",
     "text": [
      "Files already downloaded and verified\n",
      "Files already downloaded and verified\n"
     ]
    }
   ],
   "source": [
    "tensor_cifar10 = datasets.CIFAR10(root='./data', train=True, download=True, transform=transforms.ToTensor())\n",
    "tensor_cifar10_val = datasets.CIFAR10(root='./data', train=False, download=True, transform=transforms.ToTensor())\n"
   ]
  },
  {
   "cell_type": "markdown",
   "metadata": {},
   "source": [
    "#### Ćwiczenie\n",
    "Uruchom poniższą komórkę, aby zwizualizować tensor `img_t` z użyciem `plt.imshow()`. Funkcja ta oczekuje innej kolejności współrzędnych (H x W x C) niż zawarta w tensorze (C x H x W) - stąd konieczność użycia metody `permute()`.\n",
    "\n",
    "H - wysokość, W - szerokość, C - kanał (RGB)"
   ]
  },
  {
   "cell_type": "code",
   "execution_count": 10,
   "metadata": {},
   "outputs": [
    {
     "name": "stdout",
     "output_type": "stream",
     "text": [
      "ship\n"
     ]
    },
    {
     "data": {
      "image/png": "[encoded data removed]",
      "text/plain": [
       "<Figure size 640x480 with 1 Axes>"
      ]
     },
     "metadata": {},
     "output_type": "display_data"
    }
   ],
   "source": [
    "index = 100\n",
    "\n",
    "img_t, label = tensor_cifar10[index]\n",
    "plt.imshow(img_t.permute(1, 2, 0))\n",
    "\n",
    "print(class_names[label])"
   ]
  },
  {
   "cell_type": "markdown",
   "metadata": {},
   "source": [
    "### Normalizacja danych\n",
    "\n",
    "Przed użyciem w sieci neuronowej, należy odpowiednio znormalizować dane - normalizacja ułatwia (przyspiesza i stabilizuje) trening modelu. \n",
    "\n",
    "Typowym sposobem normalizacji danych obrazkowych jest standaryzacja każdego z dostępnych kanałów - odjęcie policzonej dla niego średniej ze zbioru uczącego i podzielenie przez jego odchylenie standardowe."
   ]
  },
  {
   "cell_type": "markdown",
   "metadata": {},
   "source": [
    "#### Ćwiczenie\n",
    "Uruchom kolejne komórki. Spróbuj wyjaśnić, co się w nich dzieje.\n",
    "\n",
    "- https://pytorch.org/docs/stable/generated/torch.stack.html (dla przypomnienia)\n",
    "- https://pytorch.org/docs/stable/tensors.html#torch.Tensor.view"
   ]
  },
  {
   "cell_type": "code",
   "execution_count": 11,
   "metadata": {},
   "outputs": [],
   "source": [
    "imgs = torch.stack([img_t for img_t, _ in tensor_cifar10], dim=3)"
   ]
  },
  {
   "cell_type": "code",
   "execution_count": 12,
   "metadata": {},
   "outputs": [
    {
     "data": {
      "text/plain": [
       "torch.Size([3, 32, 32, 50000])"
      ]
     },
     "execution_count": 12,
     "metadata": {},
     "output_type": "execute_result"
    }
   ],
   "source": [
    "imgs.shape"
   ]
  },
  {
   "cell_type": "code",
   "execution_count": 13,
   "metadata": {},
   "outputs": [],
   "source": [
    "per_channel_means = imgs.view(3, -1).mean(dim=1)\n",
    "per_channel_std = imgs.view(3, -1).std(dim=1)"
   ]
  },
  {
   "cell_type": "markdown",
   "metadata": {},
   "source": [
    "#### Ćwiczenie\n",
    "\n",
    "Do normalizacji danych w `torchvision.transforms` słuzy `transforms.Normalize`, której należy podać średnie i odchylenia standardowe dla każdego z kanałów. `transforms.Compose` pozwala natomiast łączyć transformacje w sekwencje - są one aplikowane do danych ładowanych do `Dataset` po kolei.\n",
    "\n",
    "`transforms.Compose` przyjmuje jako argument listę kolejnych transformacji.\n",
    "\n",
    "Załaduj zbiór danych do zmiennej `transformed_cifar10`, podając jako argument `transform` złożenie transformacji `ToTensor` i `Normalize`\n",
    "\n",
    "Sprawdź zawartość dowolnego tensora z `transformed_cifar10`.\n",
    "\n",
    "\n",
    "- https://pytorch.org/vision/stable/transforms.html#torchvision.transforms.Normalize\n",
    "- https://pytorch.org/vision/stable/transforms.html#torchvision.transforms.Compose\n"
   ]
  },
  {
   "cell_type": "code",
   "execution_count": 16,
   "metadata": {},
   "outputs": [
    {
     "name": "stdout",
     "output_type": "stream",
     "text": [
      "Files already downloaded and verified\n",
      "Files already downloaded and verified\n",
      "Shape of sample image: torch.Size([3, 32, 32])\n",
      "Label of sample image: 3\n",
      "Sample image tensor: tensor([[[0.9020, 0.8784, 0.9098,  ..., 0.9451, 0.8941, 0.8078],\n",
      "         [0.7725, 0.6471, 0.7020,  ..., 0.7765, 0.4706, 0.2863],\n",
      "         [0.7451, 0.5961, 0.6706,  ..., 0.7216, 0.5647, 0.4471],\n",
      "         ...,\n",
      "         [0.5490, 0.3961, 0.4118,  ..., 0.4157, 0.4039, 0.3059],\n",
      "         [0.5255, 0.3529, 0.3647,  ..., 0.3882, 0.3804, 0.2863],\n",
      "         [0.3569, 0.2118, 0.2235,  ..., 0.2235, 0.2275, 0.2196]],\n",
      "\n",
      "        [[0.9020, 0.8784, 0.9137,  ..., 0.9333, 0.8784, 0.8039],\n",
      "         [0.7725, 0.6431, 0.6941,  ..., 0.7490, 0.4353, 0.2706],\n",
      "         [0.7451, 0.5882, 0.6549,  ..., 0.6824, 0.5294, 0.4235],\n",
      "         ...,\n",
      "         [0.5176, 0.3647, 0.3843,  ..., 0.3882, 0.3843, 0.2902],\n",
      "         [0.5059, 0.3373, 0.3490,  ..., 0.3725, 0.3647, 0.2706],\n",
      "         [0.3529, 0.2078, 0.2157,  ..., 0.2157, 0.2157, 0.2039]],\n",
      "\n",
      "        [[0.9059, 0.8824, 0.9176,  ..., 0.9333, 0.8784, 0.8000],\n",
      "         [0.7725, 0.6510, 0.7137,  ..., 0.7333, 0.4157, 0.2510],\n",
      "         [0.7333, 0.5804, 0.6549,  ..., 0.6667, 0.5020, 0.4039],\n",
      "         ...,\n",
      "         [0.5255, 0.3725, 0.3922,  ..., 0.3961, 0.3922, 0.2941],\n",
      "         [0.5137, 0.3412, 0.3529,  ..., 0.3765, 0.3686, 0.2745],\n",
      "         [0.3529, 0.2078, 0.2196,  ..., 0.2196, 0.2196, 0.2078]]])\n"
     ]
    }
   ],
   "source": [
    "mean = (0, 0, 0)\n",
    "std = (1, 1, 1)\n",
    "\n",
    "transform = transforms.Compose([\n",
    "    transforms.ToTensor(),\n",
    "    transforms.Normalize(mean, std)\n",
    "])\n",
    "\n",
    "transformed_cifar10 = datasets.CIFAR10(root='./data', train=True, download=True, transform=transform)\n",
    "transformed_cifar10_val = datasets.CIFAR10(root='./data', train=False, download=True, transform=transform)\n",
    "\n",
    "sample_image, sample_label = transformed_cifar10[2137]\n",
    "print(\"Shape of sample image:\", sample_image.shape)\n",
    "print(\"Label of sample image:\", sample_label)\n",
    "print(\"Sample image tensor:\", sample_image)"
   ]
  },
  {
   "cell_type": "markdown",
   "metadata": {},
   "source": [
    "### Klasyfikacja binarna - ptak czy samolot?\n",
    "\n",
    "Po przygotowaniu zbioru danych przejdziemy teraz do zadania klasyfikacji binarnej.\n",
    "\n",
    "Wyobraź sobie, że jesteś leniwym miłośnikiem ptaków, i zamiast wyczekiwać długimi godzinami w lesie, chciałbyś/chciałabyś zautomatyzować proces robienia zdjęć ptakom. Niestety Twój system kamer jest dość wrażliwy i robi zdjęcia często także przelatującym samolotom. Postanawiasz wytrenować sieć neuronową, która wykryje zdjęcia samolotów i usunie je z Twojego systemu."
   ]
  },
  {
   "cell_type": "markdown",
   "metadata": {},
   "source": [
    "#### Ćwiczenie\n",
    "\n",
    "Do opisanego problemu klasyfikacji binarnej możemy wykorzystać podzbiór `CIFAR-10`, wybierając odpowiednio dwie z 10 dostępnych klas. Przypisz im (z wykorzystaniem słownika `label_map`) nowe etykiety - 0 i 1.\n",
    "\n",
    "Uwaga: \n",
    "Stworzone w ten sposób `cifar2` i `cifar2_val` nie będą obiektami klasy `Dataset`, ale na potrzeby dzisiejszych zajęć w zupełności wystarczy nam lista - posiada ona implementacje `__len__` i `__getitem__`.  Wykorzystaj \"list comprehension\" do przefiltrowania `transformed_cifar10` i `transformed_cifar10_val`."
   ]
  },
  {
   "cell_type": "code",
   "execution_count": 23,
   "metadata": {},
   "outputs": [],
   "source": [
    "label_map = {'airplane': 0, 'bird': 1}\n",
    "new_class_names  = {0: 'airplane', 1: 'bird'}\n",
    "\n",
    "cifar2 = [(image, label_map[class_names[label]]) for image, label in transformed_cifar10 if class_names[label] in label_map]\n",
    "cifar2_val = [(image, label_map[class_names[label]]) for image, label in transformed_cifar10_val if class_names[label] in label_map]"
   ]
  },
  {
   "cell_type": "code",
   "execution_count": 26,
   "metadata": {},
   "outputs": [
    {
     "name": "stdout",
     "output_type": "stream",
     "text": [
      "Data Len: 10000\n",
      "Label: 1\n"
     ]
    },
    {
     "data": {
      "image/png": "[encoded data removed]",
      "text/plain": [
       "<Figure size 640x480 with 1 Axes>"
      ]
     },
     "metadata": {},
     "output_type": "display_data"
    },
    {
     "name": "stdout",
     "output_type": "stream",
     "text": [
      "Class: automobile\n",
      "Data_val Len: 2000\n",
      "Label_val: 0\n"
     ]
    },
    {
     "data": {
      "image/png": "[encoded data removed]",
      "text/plain": [
       "<Figure size 640x480 with 1 Axes>"
      ]
     },
     "metadata": {},
     "output_type": "display_data"
    },
    {
     "name": "stdout",
     "output_type": "stream",
     "text": [
      "Class_val: airplane\n"
     ]
    }
   ],
   "source": [
    "image, label = cifar2[index]\n",
    "print(\"Data Len:\", len(cifar2))\n",
    "print(\"Label:\", label)\n",
    "plt.imshow(image.permute(1, 2, 0))\n",
    "plt.axis('off')\n",
    "plt.show()\n",
    "print(\"Class:\", class_names[label])\n",
    "\n",
    "\n",
    "image_val, label_val = cifar2_val[index]\n",
    "print(\"Data_val Len:\", len(cifar2_val))\n",
    "print(\"Label_val:\", label_val)\n",
    "plt.imshow(image_val.permute(1, 2, 0))\n",
    "plt.axis('off')\n",
    "plt.show()\n",
    "print(\"Class_val:\", class_names[label_val])"
   ]
  },
  {
   "cell_type": "markdown",
   "metadata": {},
   "source": [
    "### Gęsta sieć neuronowa\n",
    "\n",
    "Zbudujemy teraz model sieci neuronowej, wykorzystując poznane poprzednio moduły z `torch.nn`.\n",
    "\n",
    "Na początek niech sieć składa się kolejno z:\n",
    "- warstwy liniowej\n",
    "- funkcji aktywacji\n",
    "- drugiej warstwy liniowej\n",
    "\n",
    "Do zbudowania sieci użyj `nn.Sequential` oraz odpowiednich klas reprezentujących warstwy liniowe i wybraną funkcję aktywacji."
   ]
  },
  {
   "cell_type": "markdown",
   "metadata": {},
   "source": [
    "#### Ćwiczenie\n",
    "\n",
    "Zbuduj sieć neuronową, zgodnie z powyższą (i poniższą) instrukcją. Przypisz model do zmiennej `model`.\n",
    "\n",
    "1. Ile wejść powinna mieć taka sieć? Hint: wymiary / rozmiary tensora.\n",
    "2. Ile wyjść powinna mieć taka sieć? Czy jedno wystarczy?\n",
    "3. Niech liczba wyjść z pierwszej i wejść do drugiej warstwy liniowej wynosi 512 (arbitralna wartość)."
   ]
  },
  {
   "cell_type": "code",
   "execution_count": 27,
   "metadata": {},
   "outputs": [],
   "source": [
    "n_in = 3 * 32 * 32  \n",
    "\n",
    "n_hidden = 512  \n",
    "\n",
    "n_out = 1  \n",
    "\n",
    "model = nn.Sequential(\n",
    "    nn.Linear(n_in, n_hidden),  \n",
    "    nn.ReLU(),                  \n",
    "    nn.Linear(n_hidden, n_out)  \n",
    ")"
   ]
  },
  {
   "cell_type": "markdown",
   "metadata": {},
   "source": [
    "### Wyjście z klasyfikatora - softmax\n",
    "\n",
    "Wyjścia z powyżej zdefiniowanego modelu to tzw. logity - \"surowe\" wartości liczbowe - tyle wartości, ile wyjść. Im wyższa wartość danego logitu, tym model \"bardziej przewiduje\" klasę przypisaną do danego wyjścia. \n",
    "\n",
    "Typowo w zagadnieniu klasyfikacji logity normalizuje się z użyciem funkcji **softmax** (przy jednym wyjściu \"wystarczy\" sigmoid). Wartości otrzymane w wyniku normalizacji można interpretować jako prawdopodobieństwa / pewności (ang. confidence scores) modelu co do predykcji klasy obiektu."
   ]
  },
  {
   "cell_type": "markdown",
   "metadata": {},
   "source": [
    "#### Ćwiczenie\n",
    "\n",
    "Sprawdź działanie funkcji softmax zdefiniowanej poniżej oraz zaimplementowanej jako `nn.Softmax` na przykładowym tensorze."
   ]
  },
  {
   "cell_type": "code",
   "execution_count": 28,
   "metadata": {},
   "outputs": [],
   "source": [
    "def softmax(x):\n",
    "    return torch.exp(x) / torch.exp(x).sum()"
   ]
  },
  {
   "cell_type": "code",
   "execution_count": 29,
   "metadata": {},
   "outputs": [
    {
     "data": {
      "text/plain": [
       "tensor([0.0900, 0.2447, 0.6652])"
      ]
     },
     "execution_count": 29,
     "metadata": {},
     "output_type": "execute_result"
    }
   ],
   "source": [
    "x = torch.tensor([1.0, 2.0, 3.0])\n",
    "softmax(x)"
   ]
  },
  {
   "cell_type": "code",
   "execution_count": 30,
   "metadata": {},
   "outputs": [
    {
     "data": {
      "text/plain": [
       "tensor([[0.0900, 0.2447, 0.6652],\n",
       "        [0.0900, 0.2447, 0.6652]])"
      ]
     },
     "execution_count": 30,
     "metadata": {},
     "output_type": "execute_result"
    }
   ],
   "source": [
    "softmax = nn.Softmax(dim=1)\n",
    "x = torch.tensor([[1.0, 2.0, 3.0], [1.0, 2.0, 3.0]])\n",
    "softmax(x)"
   ]
  },
  {
   "cell_type": "markdown",
   "metadata": {},
   "source": [
    "#### Ćwiczenie\n",
    "Rozbuduj poprzednio zbudowany model o `nn.Softmax` podając `dim=1` (dlaczego akurat 1? czym jest dim=0?)\n",
    "\n",
    "- https://pytorch.org/docs/stable/generated/torch.nn.Softmax.html"
   ]
  },
  {
   "cell_type": "code",
   "execution_count": 39,
   "metadata": {},
   "outputs": [],
   "source": [
    "model_softmax = nn.Sequential(\n",
    "    nn.Linear(n_in, n_hidden),  # Warstwa liniowa\n",
    "    nn.ReLU(),                  # Funkcja aktywacji ReLU\n",
    "    nn.Linear(n_hidden, 2), # Druga warstwa liniowa\n",
    "    nn.Softmax(dim=1)           # Warstwa Softmax\n",
    ")"
   ]
  },
  {
   "cell_type": "markdown",
   "metadata": {},
   "source": [
    "#### Ćwiczenie\n",
    "Przepuść przez model wybrany przykład ze zbioru `cifar2`. Czy model dobrze rozpoznał klasę? Jeśli tak - czy mamy gotowy model?"
   ]
  },
  {
   "cell_type": "code",
   "execution_count": 41,
   "metadata": {},
   "outputs": [
    {
     "data": {
      "image/png": "[encoded data removed]",
      "text/plain": [
       "<Figure size 640x480 with 1 Axes>"
      ]
     },
     "metadata": {},
     "output_type": "display_data"
    },
    {
     "name": "stdout",
     "output_type": "stream",
     "text": [
      "tensor([[0.5660, 0.4340]], grad_fn=<SoftmaxBackward0>)\n",
      "airplane\n"
     ]
    }
   ],
   "source": [
    "new_class_names  = {0: 'airplane', 1: 'bird'}\n",
    "\n",
    "# wizualizacja obrazka\n",
    "index = 0\n",
    "\n",
    "img, _ = cifar2[index]\n",
    "plt.imshow(img.permute(1, 2, 0))\n",
    "plt.show()\n",
    "\n",
    "# \"wypłaszczenie\" obrazka + dodatkowy wymiar \"1\" (unsqueeze - patrz poprzednie zajęcia)\n",
    "img_batch = img.view(-1).unsqueeze(0)\n",
    "\n",
    "# przepuszczenie przez model\n",
    "out = model_softmax(img_batch)\n",
    "\n",
    "# prawdopodobieństwa klas\n",
    "print(out)\n",
    "# klasa predykcji\n",
    "print(new_class_names[torch.argmax(out, dim=1).item()])"
   ]
  },
  {
   "cell_type": "markdown",
   "metadata": {},
   "source": [
    "### Funkcja straty w klasyfikacji\n",
    "\n",
    "W przypadku zadania regresji jako funkcji straty używaliśmy błędu średniokwadratowego (MSE, `nn.MSELoss`).\n",
    "\n",
    "W klasyfikacji zależy nam na tym, aby model nauczył się przypisywać wysokie prawdopodobieństwa prawidłowym klasom.\n",
    "\n",
    "Funkcja straty typowo stosowana w klasyfikacji nazywa się **entropią krzyżową** (ang. cross-entropy loss, CE) lub **negative log-likelihood** (NLL) - używana nazwa zależy od kontekstu (matematycznego), ale oba pojęcia dotyczą tego samego \"wzoru\".\n",
    "\n",
    "W `torch.nn` jest kilka alternatywnych implementacji realizujących tę funkcję straty, np.:\n",
    "- `nn.NLLLoss` - przyjmuje na wejście zlogarytmowane prawdopodobieństwa klas - wymaga `nn.LogSoftmax` zamiast `nn.Softmax`\n",
    "- `nn.CrossEntropyLoss` - przyjmuje na wejście logity - model bez softmaxu\n",
    "\n",
    "czyli: `nn.CrossEntropyLoss` = `nn.LogSoftmax` + `nn.NLLLoss`\n",
    "\n",
    "różnica: w przypadku `nn.CrossEntropyLoss` wyjścia nie będą znormalizowane - ale często wystarczą nam logity (jako predykcję modelu bierzemy klasę, dla której wartość logitu jest największa)."
   ]
  },
  {
   "cell_type": "markdown",
   "metadata": {},
   "source": [
    "#### Ćwiczenie\n",
    "\n",
    "Dla modelu z poprzedniego ćwiczenia oblicz wartość funkcji straty dla wybranego przykładu z `cifar2`. Uruchom komórkę kilka razy - co się dzieje i dlaczego?"
   ]
  },
  {
   "cell_type": "code",
   "execution_count": 40,
   "metadata": {},
   "outputs": [
    {
     "name": "stdout",
     "output_type": "stream",
     "text": [
      "tensor([[0.5660, 0.4340]], grad_fn=<SoftmaxBackward0>) 1\n"
     ]
    },
    {
     "data": {
      "text/plain": [
       "tensor(0.7613, grad_fn=<NllLossBackward0>)"
      ]
     },
     "execution_count": 40,
     "metadata": {},
     "output_type": "execute_result"
    }
   ],
   "source": [
    "model = model_softmax\n",
    "\n",
    "loss = nn.CrossEntropyLoss()\n",
    "\n",
    "index = 0\n",
    "img, label = cifar2[index]\n",
    "out = model(img.view(-1).unsqueeze(0))\n",
    "print(out, label)\n",
    "loss(out, torch.tensor([label]))"
   ]
  },
  {
   "cell_type": "markdown",
   "metadata": {},
   "source": [
    "### Stochastic Gradient Descent (SGD)\n",
    "\n",
    "W poprzednich ćwiczeniach zbiór danych był mały (łącznie 11 obserwacji, w tym 9 w zbiorze uczącym) i w każdej iteracji treningu przepuszczaliśmy przez model cały dostępny zbiór. \n",
    "\n",
    "W zbiorze `CIFAR` mamy łącznie po 6 tysięcy obrazków dla każdej z klas (5000 w zbiorze uczącym, 1000 w walidacyjnym). Nie będziemy w każdej iteracji treningu przepuszczać przez model całego zbioru danych (nie chodzi tylko o ograniczoną pamięć - model mógłby mieć wtedy problem z nauczeniem się).\n",
    "\n",
    "Będziemy podawać dane w tzw. \"batchach\" (liczba przykładów podawanych jednocześnie, czyli batch size, jest hiperparametrem modelu).\n",
    "\n",
    "Taki wariant algorytmu najszybszego spadku nazywa się:\n",
    "- SGD - Stochastic Gradient Descent - gdy podajemy jeden przykład w każdej iteracji\n",
    "- BGD - (Mini-)Batch Gradient Descent - gdy podajemy N przykładów (np. kilka / kilkanaście / kilkadziesiąt) w każdej iteracji\n",
    "\n",
    "Uwaga:\n",
    "W praktyce (i w literaturze) nazwa \"SGD\" używana jest tez w kontekście BGD."
   ]
  },
  {
   "cell_type": "markdown",
   "metadata": {},
   "source": [
    "#### Ćwiczenie\n",
    "\n",
    "Poniższa komórka realizuje algorytm SGD - w każdej iteracji treningu puszczamy przez model jeden obrazek (druga pętla for).\n",
    "\n",
    "Uruchom poniższą komórkę i obserwuj funkcję straty po każdej epoce treningu."
   ]
  },
  {
   "cell_type": "code",
   "execution_count": 46,
   "metadata": {},
   "outputs": [
    {
     "name": "stdout",
     "output_type": "stream",
     "text": [
      "Epoch: 0, Loss: 0.922304\n",
      "Epoch: 1, Loss: 1.089183\n",
      "Epoch: 2, Loss: 0.913502\n",
      "Epoch: 3, Loss: 1.467265\n",
      "Epoch: 4, Loss: 1.122649\n",
      "Epoch: 5, Loss: 1.801827\n",
      "Epoch: 6, Loss: 1.501682\n",
      "Epoch: 7, Loss: 0.915295\n",
      "Epoch: 8, Loss: 1.954634\n",
      "Epoch: 9, Loss: 1.139713\n",
      "Epoch: 10, Loss: 1.072924\n",
      "Epoch: 11, Loss: 0.981590\n"
     ]
    },
    {
     "ename": "KeyboardInterrupt",
     "evalue": "",
     "output_type": "error",
     "traceback": [
      "\u001b[1;31m---------------------------------------------------------------------------\u001b[0m",
      "\u001b[1;31mKeyboardInterrupt\u001b[0m                         Traceback (most recent call last)",
      "Cell \u001b[1;32mIn[46], line 18\u001b[0m\n\u001b[0;32m     16\u001b[0m out \u001b[38;5;241m=\u001b[39m model(img\u001b[38;5;241m.\u001b[39mview(\u001b[38;5;241m-\u001b[39m\u001b[38;5;241m1\u001b[39m)\u001b[38;5;241m.\u001b[39munsqueeze(\u001b[38;5;241m0\u001b[39m))\n\u001b[0;32m     17\u001b[0m loss \u001b[38;5;241m=\u001b[39m loss_fn(out, torch\u001b[38;5;241m.\u001b[39mtensor([label]))\n\u001b[1;32m---> 18\u001b[0m \u001b[43moptimizer\u001b[49m\u001b[38;5;241;43m.\u001b[39;49m\u001b[43mzero_grad\u001b[49m\u001b[43m(\u001b[49m\u001b[43m)\u001b[49m\n\u001b[0;32m     19\u001b[0m loss\u001b[38;5;241m.\u001b[39mbackward()\n\u001b[0;32m     20\u001b[0m optimizer\u001b[38;5;241m.\u001b[39mstep()\n",
      "File \u001b[1;32m~\\AppData\\Local\\Packages\\PythonSoftwareFoundation.Python.3.11_qbz5n2kfra8p0\\LocalCache\\local-packages\\Python311\\site-packages\\torch\\_compile.py:24\u001b[0m, in \u001b[0;36m_disable_dynamo.<locals>.inner\u001b[1;34m(*args, **kwargs)\u001b[0m\n\u001b[0;32m     20\u001b[0m \u001b[38;5;129m@functools\u001b[39m\u001b[38;5;241m.\u001b[39mwraps(fn)\n\u001b[0;32m     21\u001b[0m \u001b[38;5;28;01mdef\u001b[39;00m \u001b[38;5;21minner\u001b[39m(\u001b[38;5;241m*\u001b[39margs, \u001b[38;5;241m*\u001b[39m\u001b[38;5;241m*\u001b[39mkwargs):\n\u001b[0;32m     22\u001b[0m     \u001b[38;5;28;01mimport\u001b[39;00m \u001b[38;5;21;01mtorch\u001b[39;00m\u001b[38;5;21;01m.\u001b[39;00m\u001b[38;5;21;01m_dynamo\u001b[39;00m\n\u001b[1;32m---> 24\u001b[0m     \u001b[38;5;28;01mreturn\u001b[39;00m \u001b[43mtorch\u001b[49m\u001b[38;5;241;43m.\u001b[39;49m\u001b[43m_dynamo\u001b[49m\u001b[38;5;241;43m.\u001b[39;49m\u001b[43mdisable\u001b[49m\u001b[43m(\u001b[49m\u001b[43mfn\u001b[49m\u001b[43m,\u001b[49m\u001b[43m \u001b[49m\u001b[43mrecursive\u001b[49m\u001b[43m)\u001b[49m(\u001b[38;5;241m*\u001b[39margs, \u001b[38;5;241m*\u001b[39m\u001b[38;5;241m*\u001b[39mkwargs)\n",
      "File \u001b[1;32m~\\AppData\\Local\\Packages\\PythonSoftwareFoundation.Python.3.11_qbz5n2kfra8p0\\LocalCache\\local-packages\\Python311\\site-packages\\torch\\_dynamo\\decorators.py:46\u001b[0m, in \u001b[0;36mdisable\u001b[1;34m(fn, recursive)\u001b[0m\n\u001b[0;32m     44\u001b[0m         fn \u001b[38;5;241m=\u001b[39m innermost_fn(fn)\n\u001b[0;32m     45\u001b[0m         \u001b[38;5;28;01massert\u001b[39;00m \u001b[38;5;28mcallable\u001b[39m(fn)\n\u001b[1;32m---> 46\u001b[0m         \u001b[38;5;28;01mreturn\u001b[39;00m \u001b[43mDisableContext\u001b[49m\u001b[43m(\u001b[49m\u001b[43m)\u001b[49m\u001b[43m(\u001b[49m\u001b[43mfn\u001b[49m\u001b[43m)\u001b[49m\n\u001b[0;32m     47\u001b[0m     \u001b[38;5;28;01mreturn\u001b[39;00m DisableContext()\n\u001b[0;32m     48\u001b[0m \u001b[38;5;28;01melse\u001b[39;00m:\n",
      "File \u001b[1;32m~\\AppData\\Local\\Packages\\PythonSoftwareFoundation.Python.3.11_qbz5n2kfra8p0\\LocalCache\\local-packages\\Python311\\site-packages\\torch\\_dynamo\\eval_frame.py:437\u001b[0m, in \u001b[0;36m_TorchDynamoContext.__call__\u001b[1;34m(self, fn)\u001b[0m\n\u001b[0;32m    434\u001b[0m \u001b[38;5;28;01massert\u001b[39;00m \u001b[38;5;28mcallable\u001b[39m(fn)\n\u001b[0;32m    436\u001b[0m \u001b[38;5;28;01mtry\u001b[39;00m:\n\u001b[1;32m--> 437\u001b[0m     filename \u001b[38;5;241m=\u001b[39m \u001b[43minspect\u001b[49m\u001b[38;5;241;43m.\u001b[39;49m\u001b[43mgetsourcefile\u001b[49m\u001b[43m(\u001b[49m\u001b[43mfn\u001b[49m\u001b[43m)\u001b[49m\n\u001b[0;32m    438\u001b[0m \u001b[38;5;28;01mexcept\u001b[39;00m \u001b[38;5;167;01mTypeError\u001b[39;00m:\n\u001b[0;32m    439\u001b[0m     filename \u001b[38;5;241m=\u001b[39m \u001b[38;5;28;01mNone\u001b[39;00m\n",
      "File \u001b[1;32mC:\\Program Files\\WindowsApps\\PythonSoftwareFoundation.Python.3.11_3.11.2544.0_x64__qbz5n2kfra8p0\\Lib\\inspect.py:945\u001b[0m, in \u001b[0;36mgetsourcefile\u001b[1;34m(object)\u001b[0m\n\u001b[0;32m    942\u001b[0m \u001b[38;5;28;01melif\u001b[39;00m \u001b[38;5;28many\u001b[39m(filename\u001b[38;5;241m.\u001b[39mendswith(s) \u001b[38;5;28;01mfor\u001b[39;00m s \u001b[38;5;129;01min\u001b[39;00m\n\u001b[0;32m    943\u001b[0m              importlib\u001b[38;5;241m.\u001b[39mmachinery\u001b[38;5;241m.\u001b[39mEXTENSION_SUFFIXES):\n\u001b[0;32m    944\u001b[0m     \u001b[38;5;28;01mreturn\u001b[39;00m \u001b[38;5;28;01mNone\u001b[39;00m\n\u001b[1;32m--> 945\u001b[0m \u001b[38;5;28;01mif\u001b[39;00m \u001b[43mos\u001b[49m\u001b[38;5;241;43m.\u001b[39;49m\u001b[43mpath\u001b[49m\u001b[38;5;241;43m.\u001b[39;49m\u001b[43mexists\u001b[49m\u001b[43m(\u001b[49m\u001b[43mfilename\u001b[49m\u001b[43m)\u001b[49m:\n\u001b[0;32m    946\u001b[0m     \u001b[38;5;28;01mreturn\u001b[39;00m filename\n\u001b[0;32m    947\u001b[0m \u001b[38;5;66;03m# only return a non-existent filename if the module has a PEP 302 loader\u001b[39;00m\n",
      "File \u001b[1;32m<frozen genericpath>:19\u001b[0m, in \u001b[0;36mexists\u001b[1;34m(path)\u001b[0m\n",
      "\u001b[1;31mKeyboardInterrupt\u001b[0m: "
     ]
    }
   ],
   "source": [
    "model = nn.Sequential(\n",
    "    nn.Linear(3072, 16),\n",
    "    nn.Tanh(),\n",
    "    nn.Linear(16, 2),\n",
    "    nn.LogSoftmax(dim=1)\n",
    ")\n",
    "\n",
    "learning_rate = 1e-2\n",
    "optimizer = optim.SGD(model.parameters(), lr=learning_rate)\n",
    "\n",
    "loss_fn = nn.NLLLoss()\n",
    "n_epochs = 100\n",
    "\n",
    "for epoch in range(n_epochs):\n",
    "    for img, label in cifar2:\n",
    "        out = model(img.view(-1).unsqueeze(0))\n",
    "        loss = loss_fn(out, torch.tensor([label]))\n",
    "        optimizer.zero_grad()\n",
    "        loss.backward()\n",
    "        optimizer.step()\n",
    "    print(\"Epoch: %d, Loss: %f\" % (epoch, float(loss)))"
   ]
  },
  {
   "cell_type": "markdown",
   "metadata": {},
   "source": [
    "### (Mini-)Batch Gradient Descent\n",
    "\n",
    "Jak już było wspomniane, zwykle w kolejnych iteracjach treningu podajemy modelowi \"trochę\" danych - tzw. batch.\n",
    "\n",
    "Do ładowania kolejnych batchy danych w czasie treningu lub walidacji służy w PyTorchu klasa `DataLoader` z `torch.utils.data`.\n",
    "\n",
    "Konstruktor tej klasy przyjmuje jako pierwszy argument `Dataset`. Inne interesujące argumenty to `batch_size` oraz `shuffle`.\n",
    "\n",
    "- https://pytorch.org/docs/stable/data.html\n",
    "\n",
    "Uwaga:  \n",
    "Zwykle w każdej epoce treningu \"przetasowuje się\" zbiór danych. W walidacji kolejność batchy nie ma znaczenia."
   ]
  },
  {
   "cell_type": "markdown",
   "metadata": {},
   "source": [
    "#### Ćwiczenie\n",
    "\n",
    "Stwórz `train_loader` dla zbioru uczącego i `val_loader` dla walidacyjnego, podając `batch_size` równy 64 i pamiętając o przetasowaniu danych (dla zbioru uczącego). "
   ]
  },
  {
   "cell_type": "code",
   "execution_count": 47,
   "metadata": {},
   "outputs": [],
   "source": [
    "from torch.utils.data import DataLoader\n",
    "\n",
    "batch_size = 64\n",
    "train_loader = DataLoader(cifar2, batch_size=batch_size, shuffle=True)\n",
    "val_loader = DataLoader(cifar2_val, batch_size=batch_size)"
   ]
  },
  {
   "cell_type": "markdown",
   "metadata": {},
   "source": [
    "#### Ćwiczenie\n",
    "Zmodyfikuj poprzednią pętlę treningową, aby zrealizować algortym batch gradient descent z wykorzystaniem stworzonego dataloadera."
   ]
  },
  {
   "cell_type": "code",
   "execution_count": 48,
   "metadata": {},
   "outputs": [
    {
     "name": "stdout",
     "output_type": "stream",
     "text": [
      "Epoch 1, Loss: 79.07141923904419\n",
      "Epoch 2, Loss: 78.57751631736755\n",
      "Epoch 3, Loss: 78.82498303055763\n",
      "Epoch 4, Loss: 78.54070004820824\n",
      "Epoch 5, Loss: 78.38540798425674\n",
      "Epoch 6, Loss: 78.56662911176682\n",
      "Epoch 7, Loss: 78.30540427565575\n",
      "Epoch 8, Loss: 78.50615027546883\n",
      "Epoch 9, Loss: 78.19356295466423\n",
      "Epoch 10, Loss: 78.28715375065804\n",
      "Epoch 11, Loss: 78.27849996089935\n",
      "Epoch 12, Loss: 78.24088510870934\n",
      "Epoch 13, Loss: 78.15006846189499\n",
      "Epoch 14, Loss: 78.20115804672241\n",
      "Epoch 15, Loss: 78.1883410513401\n",
      "Epoch 16, Loss: 78.11526414752007\n",
      "Epoch 17, Loss: 78.1442574262619\n",
      "Epoch 18, Loss: 78.14117708802223\n",
      "Epoch 19, Loss: 77.91086825728416\n",
      "Epoch 20, Loss: 78.0037449002266\n",
      "Epoch 21, Loss: 77.81078171730042\n",
      "Epoch 22, Loss: 78.0015929043293\n",
      "Epoch 23, Loss: 77.99028071761131\n",
      "Epoch 24, Loss: 78.08161872625351\n",
      "Epoch 25, Loss: 78.1432631611824\n",
      "Epoch 26, Loss: 77.91890335083008\n",
      "Epoch 27, Loss: 77.87431928515434\n",
      "Epoch 28, Loss: 77.99519497156143\n",
      "Epoch 29, Loss: 77.93105393648148\n",
      "Epoch 30, Loss: 77.72457373142242\n",
      "Epoch 31, Loss: 77.70494556427002\n",
      "Epoch 32, Loss: 77.77963301539421\n",
      "Epoch 33, Loss: 77.88546216487885\n",
      "Epoch 34, Loss: 77.63929811120033\n",
      "Epoch 35, Loss: 77.6978770494461\n",
      "Epoch 36, Loss: 77.75775390863419\n",
      "Epoch 37, Loss: 77.64698496460915\n",
      "Epoch 38, Loss: 77.62779527902603\n",
      "Epoch 39, Loss: 77.77735778689384\n",
      "Epoch 40, Loss: 77.62838914990425\n",
      "Epoch 41, Loss: 77.6772401034832\n",
      "Epoch 42, Loss: 77.61678564548492\n",
      "Epoch 43, Loss: 77.59967604279518\n",
      "Epoch 44, Loss: 77.62045785784721\n",
      "Epoch 45, Loss: 77.70415261387825\n",
      "Epoch 46, Loss: 77.53913626074791\n",
      "Epoch 47, Loss: 77.65784898400307\n",
      "Epoch 48, Loss: 77.67595916986465\n",
      "Epoch 49, Loss: 77.52669963240623\n",
      "Epoch 50, Loss: 77.35495764017105\n",
      "Epoch 51, Loss: 77.52731785178185\n",
      "Epoch 52, Loss: 77.50525614619255\n",
      "Epoch 53, Loss: 77.53542011976242\n",
      "Epoch 54, Loss: 77.61572974920273\n",
      "Epoch 55, Loss: 77.38216978311539\n",
      "Epoch 56, Loss: 77.3122827410698\n",
      "Epoch 57, Loss: 77.33269211649895\n",
      "Epoch 58, Loss: 77.52170678973198\n",
      "Epoch 59, Loss: 77.36799523234367\n",
      "Epoch 60, Loss: 77.5547806918621\n",
      "Epoch 61, Loss: 77.51616951823235\n",
      "Epoch 62, Loss: 77.21010002493858\n",
      "Epoch 63, Loss: 77.35013058781624\n",
      "Epoch 64, Loss: 77.32520699501038\n",
      "Epoch 65, Loss: 77.33417743444443\n",
      "Epoch 66, Loss: 77.20609325170517\n",
      "Epoch 67, Loss: 77.17020431160927\n",
      "Epoch 68, Loss: 77.16267442703247\n",
      "Epoch 69, Loss: 77.34054750204086\n",
      "Epoch 70, Loss: 77.1952802836895\n",
      "Epoch 71, Loss: 77.08422216773033\n",
      "Epoch 72, Loss: 77.15085318684578\n",
      "Epoch 73, Loss: 77.22169545292854\n",
      "Epoch 74, Loss: 77.13932222127914\n",
      "Epoch 75, Loss: 77.19313165545464\n",
      "Epoch 76, Loss: 77.12506574392319\n",
      "Epoch 77, Loss: 77.09501531720161\n",
      "Epoch 78, Loss: 76.85951188206673\n",
      "Epoch 79, Loss: 76.89010712504387\n",
      "Epoch 80, Loss: 77.0642360150814\n",
      "Epoch 81, Loss: 76.9069838821888\n",
      "Epoch 82, Loss: 76.86663031578064\n",
      "Epoch 83, Loss: 77.01933988928795\n",
      "Epoch 84, Loss: 76.95947670936584\n",
      "Epoch 85, Loss: 77.0801000893116\n",
      "Epoch 86, Loss: 77.02229446172714\n",
      "Epoch 87, Loss: 76.96399709582329\n",
      "Epoch 88, Loss: 76.84978914260864\n",
      "Epoch 89, Loss: 76.92038291692734\n",
      "Epoch 90, Loss: 76.94459983706474\n",
      "Epoch 91, Loss: 76.88368558883667\n",
      "Epoch 92, Loss: 76.86529514193535\n",
      "Epoch 93, Loss: 76.87819463014603\n",
      "Epoch 94, Loss: 76.79969555139542\n",
      "Epoch 95, Loss: 76.61481401324272\n",
      "Epoch 96, Loss: 76.78551545739174\n",
      "Epoch 97, Loss: 76.680988997221\n",
      "Epoch 98, Loss: 76.83737057447433\n",
      "Epoch 99, Loss: 76.6730837225914\n",
      "Epoch 100, Loss: 77.03134456276894\n"
     ]
    }
   ],
   "source": [
    "for epoch in range(n_epochs):\n",
    "    total_loss = 0.0\n",
    "    for batch in train_loader:\n",
    "        images, labels = batch\n",
    "        optimizer.zero_grad()\n",
    "        outputs = model(images.view(images.size(0), -1))\n",
    "        loss = loss_fn(outputs, labels)\n",
    "        loss.backward()\n",
    "        optimizer.step()\n",
    "        total_loss += loss.item()\n",
    "    print(\"Epoch {}, Loss: {}\".format(epoch+1, total_loss))"
   ]
  },
  {
   "cell_type": "markdown",
   "metadata": {},
   "source": [
    "### Walidacja modelu\n",
    "\n",
    "Na koniec sprawdźmy, jaką dokładność predykcji uzyskamy na zbiorze walidacjnym dla naszej sieci gęstej."
   ]
  },
  {
   "cell_type": "markdown",
   "metadata": {},
   "source": [
    "#### Ćwiczenie\n",
    "\n",
    "1. Uruchom poniższą komórkę, aby sprawdzić dokładność na zbiorze waldiacyjnym.\n",
    "2. Sprawdź, jaki wynik uzyskasz, podmieniając `val_loader` na `train_loader` w pętli for.\n",
    "3. Skomentuj uzyskane wyniki."
   ]
  },
  {
   "cell_type": "code",
   "execution_count": 49,
   "metadata": {},
   "outputs": [
    {
     "name": "stdout",
     "output_type": "stream",
     "text": [
      "Accuracy: %f 0.7805\n"
     ]
    }
   ],
   "source": [
    "correct = 0\n",
    "total = 0\n",
    "\n",
    "with torch.no_grad():\n",
    "    for imgs, labels in val_loader:\n",
    "        batch_size = imgs.shape[0]\n",
    "        outputs = model(imgs.view(batch_size, -1))\n",
    "        _, predicted = torch.max(outputs, dim=1)\n",
    "        total += labels.shape[0]\n",
    "        correct += int((predicted == labels).sum())\n",
    "\n",
    "print(\"Accuracy: %f\", correct / total)"
   ]
  },
  {
   "cell_type": "markdown",
   "metadata": {},
   "source": [
    "### Podsumowanie\n",
    "\n",
    "- poznaliśmy możliwości PyTorcha w zakresie ładowania danych (`Dataset`, `DataLoader`) oraz obróbki danych obrazkowych (`torchvision.transforms`)\n",
    "- poruszyliśmy takie zagadnienia jak funkcja straty w klasyfikacji (entropia krzyżowa, NLL) czy softmax\n",
    "- wytrenowaliśmy binarny klasyfikator na podzbiorze zbioru `CIFAR-10` (`torchvision.datasets`) z użyciem algorytmu SGD\n",
    "\n",
    "Sieci gęste nie sprawdzają się jednak w praktyce w przetwarzaniu obrazów - wkrótce poznamy tzw. sieci splotowe (ang. convolutional neural networks, CNN), które zrewolucjonizowały dziedzinę głębokiego uczenia maszynowego w 2012 roku."
   ]
  }
 ],
 "metadata": {
  "kernelspec": {
   "display_name": "Python 3",
   "language": "python",
   "name": "python3"
  },
  "language_info": {
   "codemirror_mode": {
    "name": "ipython",
    "version": 3
   },
   "file_extension": ".py",
   "mimetype": "text/x-python",
   "name": "python",
   "nbconvert_exporter": "python",
   "pygments_lexer": "ipython3",
   "version": "3.11.9"
  }
 },
 "nbformat": 4,
 "nbformat_minor": 4
}
